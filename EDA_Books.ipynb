{
  "nbformat": 4,
  "nbformat_minor": 0,
  "metadata": {
    "colab": {
      "provenance": []
    },
    "kernelspec": {
      "name": "python3",
      "display_name": "Python 3"
    },
    "language_info": {
      "name": "python"
    }
  },
  "cells": [
    {
      "cell_type": "markdown",
      "source": [
        "## EDA datasset de libros.\n",
        "\n",
        "### El objetivo de este análisis es mejorar el dataset de libros, evaluar ratings , identificar patrones en categorías y revisar relaciones clave.\n"
      ],
      "metadata": {
        "id": "w8O44P0pqRUc"
      }
    },
    {
      "cell_type": "markdown",
      "source": [
        "1. Comenzamos cargando el dataset y revisando sus primeras filas.\n"
      ],
      "metadata": {
        "id": "SzBR-poIq0ua"
      }
    },
    {
      "cell_type": "code",
      "source": [
        "pip install pandas"
      ],
      "metadata": {
        "colab": {
          "base_uri": "https://localhost:8080/"
        },
        "id": "GGgP3b2CFldt",
        "outputId": "57c7e3c3-8bc8-4755-a8f3-102eb12fcbff"
      },
      "execution_count": 3,
      "outputs": [
        {
          "output_type": "stream",
          "name": "stdout",
          "text": [
            "Requirement already satisfied: pandas in /usr/local/lib/python3.11/dist-packages (2.2.2)\n",
            "Requirement already satisfied: numpy>=1.23.2 in /usr/local/lib/python3.11/dist-packages (from pandas) (2.0.2)\n",
            "Requirement already satisfied: python-dateutil>=2.8.2 in /usr/local/lib/python3.11/dist-packages (from pandas) (2.8.2)\n",
            "Requirement already satisfied: pytz>=2020.1 in /usr/local/lib/python3.11/dist-packages (from pandas) (2025.2)\n",
            "Requirement already satisfied: tzdata>=2022.7 in /usr/local/lib/python3.11/dist-packages (from pandas) (2025.2)\n",
            "Requirement already satisfied: six>=1.5 in /usr/local/lib/python3.11/dist-packages (from python-dateutil>=2.8.2->pandas) (1.17.0)\n"
          ]
        }
      ]
    },
    {
      "cell_type": "code",
      "execution_count": 4,
      "metadata": {
        "colab": {
          "base_uri": "https://localhost:8080/",
          "height": 590
        },
        "id": "WyK7gnjl9Gyo",
        "outputId": "f7b75856-26fa-466f-f07b-f5535f68df38"
      },
      "outputs": [
        {
          "output_type": "execute_result",
          "data": {
            "text/plain": [
              "          isbn13      isbn10           title subtitle  \\\n",
              "0  9780002005883  0002005883          Gilead      NaN   \n",
              "1  9780002261982  0002261987    Spider's Web  A Novel   \n",
              "2  9780006163831  0006163831    The One Tree      NaN   \n",
              "3  9780006178736  0006178731  Rage of angels      NaN   \n",
              "4  9780006280897  0006280897  The Four Loves      NaN   \n",
              "\n",
              "                           authors                     categories  \\\n",
              "0               Marilynne Robinson                        Fiction   \n",
              "1  Charles Osborne;Agatha Christie  Detective and mystery stories   \n",
              "2             Stephen R. Donaldson               American fiction   \n",
              "3                   Sidney Sheldon                        Fiction   \n",
              "4              Clive Staples Lewis                 Christian life   \n",
              "\n",
              "                                           thumbnail  \\\n",
              "0  http://books.google.com/books/content?id=KQZCP...   \n",
              "1  http://books.google.com/books/content?id=gA5GP...   \n",
              "2  http://books.google.com/books/content?id=OmQaw...   \n",
              "3  http://books.google.com/books/content?id=FKo2T...   \n",
              "4  http://books.google.com/books/content?id=XhQ5X...   \n",
              "\n",
              "                                         description  published_year  \\\n",
              "0  A NOVEL THAT READERS and critics have been eag...          2004.0   \n",
              "1  A new 'Christie for Christmas' -- a full-lengt...          2000.0   \n",
              "2  Volume Two of Stephen Donaldson's acclaimed se...          1982.0   \n",
              "3  A memorable, mesmerizing heroine Jennifer -- b...          1993.0   \n",
              "4  Lewis' work on the nature of love divides love...          2002.0   \n",
              "\n",
              "   average_rating  num_pages  ratings_count  \n",
              "0            3.85      247.0          361.0  \n",
              "1            3.83      241.0         5164.0  \n",
              "2            3.97      479.0          172.0  \n",
              "3            3.93      512.0        29532.0  \n",
              "4            4.15      170.0        33684.0  "
            ],
            "text/html": [
              "\n",
              "  <div id=\"df-0fcb0230-8c58-4022-acef-e5a68564c531\" class=\"colab-df-container\">\n",
              "    <div>\n",
              "<style scoped>\n",
              "    .dataframe tbody tr th:only-of-type {\n",
              "        vertical-align: middle;\n",
              "    }\n",
              "\n",
              "    .dataframe tbody tr th {\n",
              "        vertical-align: top;\n",
              "    }\n",
              "\n",
              "    .dataframe thead th {\n",
              "        text-align: right;\n",
              "    }\n",
              "</style>\n",
              "<table border=\"1\" class=\"dataframe\">\n",
              "  <thead>\n",
              "    <tr style=\"text-align: right;\">\n",
              "      <th></th>\n",
              "      <th>isbn13</th>\n",
              "      <th>isbn10</th>\n",
              "      <th>title</th>\n",
              "      <th>subtitle</th>\n",
              "      <th>authors</th>\n",
              "      <th>categories</th>\n",
              "      <th>thumbnail</th>\n",
              "      <th>description</th>\n",
              "      <th>published_year</th>\n",
              "      <th>average_rating</th>\n",
              "      <th>num_pages</th>\n",
              "      <th>ratings_count</th>\n",
              "    </tr>\n",
              "  </thead>\n",
              "  <tbody>\n",
              "    <tr>\n",
              "      <th>0</th>\n",
              "      <td>9780002005883</td>\n",
              "      <td>0002005883</td>\n",
              "      <td>Gilead</td>\n",
              "      <td>NaN</td>\n",
              "      <td>Marilynne Robinson</td>\n",
              "      <td>Fiction</td>\n",
              "      <td>http://books.google.com/books/content?id=KQZCP...</td>\n",
              "      <td>A NOVEL THAT READERS and critics have been eag...</td>\n",
              "      <td>2004.0</td>\n",
              "      <td>3.85</td>\n",
              "      <td>247.0</td>\n",
              "      <td>361.0</td>\n",
              "    </tr>\n",
              "    <tr>\n",
              "      <th>1</th>\n",
              "      <td>9780002261982</td>\n",
              "      <td>0002261987</td>\n",
              "      <td>Spider's Web</td>\n",
              "      <td>A Novel</td>\n",
              "      <td>Charles Osborne;Agatha Christie</td>\n",
              "      <td>Detective and mystery stories</td>\n",
              "      <td>http://books.google.com/books/content?id=gA5GP...</td>\n",
              "      <td>A new 'Christie for Christmas' -- a full-lengt...</td>\n",
              "      <td>2000.0</td>\n",
              "      <td>3.83</td>\n",
              "      <td>241.0</td>\n",
              "      <td>5164.0</td>\n",
              "    </tr>\n",
              "    <tr>\n",
              "      <th>2</th>\n",
              "      <td>9780006163831</td>\n",
              "      <td>0006163831</td>\n",
              "      <td>The One Tree</td>\n",
              "      <td>NaN</td>\n",
              "      <td>Stephen R. Donaldson</td>\n",
              "      <td>American fiction</td>\n",
              "      <td>http://books.google.com/books/content?id=OmQaw...</td>\n",
              "      <td>Volume Two of Stephen Donaldson's acclaimed se...</td>\n",
              "      <td>1982.0</td>\n",
              "      <td>3.97</td>\n",
              "      <td>479.0</td>\n",
              "      <td>172.0</td>\n",
              "    </tr>\n",
              "    <tr>\n",
              "      <th>3</th>\n",
              "      <td>9780006178736</td>\n",
              "      <td>0006178731</td>\n",
              "      <td>Rage of angels</td>\n",
              "      <td>NaN</td>\n",
              "      <td>Sidney Sheldon</td>\n",
              "      <td>Fiction</td>\n",
              "      <td>http://books.google.com/books/content?id=FKo2T...</td>\n",
              "      <td>A memorable, mesmerizing heroine Jennifer -- b...</td>\n",
              "      <td>1993.0</td>\n",
              "      <td>3.93</td>\n",
              "      <td>512.0</td>\n",
              "      <td>29532.0</td>\n",
              "    </tr>\n",
              "    <tr>\n",
              "      <th>4</th>\n",
              "      <td>9780006280897</td>\n",
              "      <td>0006280897</td>\n",
              "      <td>The Four Loves</td>\n",
              "      <td>NaN</td>\n",
              "      <td>Clive Staples Lewis</td>\n",
              "      <td>Christian life</td>\n",
              "      <td>http://books.google.com/books/content?id=XhQ5X...</td>\n",
              "      <td>Lewis' work on the nature of love divides love...</td>\n",
              "      <td>2002.0</td>\n",
              "      <td>4.15</td>\n",
              "      <td>170.0</td>\n",
              "      <td>33684.0</td>\n",
              "    </tr>\n",
              "  </tbody>\n",
              "</table>\n",
              "</div>\n",
              "    <div class=\"colab-df-buttons\">\n",
              "\n",
              "  <div class=\"colab-df-container\">\n",
              "    <button class=\"colab-df-convert\" onclick=\"convertToInteractive('df-0fcb0230-8c58-4022-acef-e5a68564c531')\"\n",
              "            title=\"Convert this dataframe to an interactive table.\"\n",
              "            style=\"display:none;\">\n",
              "\n",
              "  <svg xmlns=\"http://www.w3.org/2000/svg\" height=\"24px\" viewBox=\"0 -960 960 960\">\n",
              "    <path d=\"M120-120v-720h720v720H120Zm60-500h600v-160H180v160Zm220 220h160v-160H400v160Zm0 220h160v-160H400v160ZM180-400h160v-160H180v160Zm440 0h160v-160H620v160ZM180-180h160v-160H180v160Zm440 0h160v-160H620v160Z\"/>\n",
              "  </svg>\n",
              "    </button>\n",
              "\n",
              "  <style>\n",
              "    .colab-df-container {\n",
              "      display:flex;\n",
              "      gap: 12px;\n",
              "    }\n",
              "\n",
              "    .colab-df-convert {\n",
              "      background-color: #E8F0FE;\n",
              "      border: none;\n",
              "      border-radius: 50%;\n",
              "      cursor: pointer;\n",
              "      display: none;\n",
              "      fill: #1967D2;\n",
              "      height: 32px;\n",
              "      padding: 0 0 0 0;\n",
              "      width: 32px;\n",
              "    }\n",
              "\n",
              "    .colab-df-convert:hover {\n",
              "      background-color: #E2EBFA;\n",
              "      box-shadow: 0px 1px 2px rgba(60, 64, 67, 0.3), 0px 1px 3px 1px rgba(60, 64, 67, 0.15);\n",
              "      fill: #174EA6;\n",
              "    }\n",
              "\n",
              "    .colab-df-buttons div {\n",
              "      margin-bottom: 4px;\n",
              "    }\n",
              "\n",
              "    [theme=dark] .colab-df-convert {\n",
              "      background-color: #3B4455;\n",
              "      fill: #D2E3FC;\n",
              "    }\n",
              "\n",
              "    [theme=dark] .colab-df-convert:hover {\n",
              "      background-color: #434B5C;\n",
              "      box-shadow: 0px 1px 3px 1px rgba(0, 0, 0, 0.15);\n",
              "      filter: drop-shadow(0px 1px 2px rgba(0, 0, 0, 0.3));\n",
              "      fill: #FFFFFF;\n",
              "    }\n",
              "  </style>\n",
              "\n",
              "    <script>\n",
              "      const buttonEl =\n",
              "        document.querySelector('#df-0fcb0230-8c58-4022-acef-e5a68564c531 button.colab-df-convert');\n",
              "      buttonEl.style.display =\n",
              "        google.colab.kernel.accessAllowed ? 'block' : 'none';\n",
              "\n",
              "      async function convertToInteractive(key) {\n",
              "        const element = document.querySelector('#df-0fcb0230-8c58-4022-acef-e5a68564c531');\n",
              "        const dataTable =\n",
              "          await google.colab.kernel.invokeFunction('convertToInteractive',\n",
              "                                                    [key], {});\n",
              "        if (!dataTable) return;\n",
              "\n",
              "        const docLinkHtml = 'Like what you see? Visit the ' +\n",
              "          '<a target=\"_blank\" href=https://colab.research.google.com/notebooks/data_table.ipynb>data table notebook</a>'\n",
              "          + ' to learn more about interactive tables.';\n",
              "        element.innerHTML = '';\n",
              "        dataTable['output_type'] = 'display_data';\n",
              "        await google.colab.output.renderOutput(dataTable, element);\n",
              "        const docLink = document.createElement('div');\n",
              "        docLink.innerHTML = docLinkHtml;\n",
              "        element.appendChild(docLink);\n",
              "      }\n",
              "    </script>\n",
              "  </div>\n",
              "\n",
              "\n",
              "<div id=\"df-c1a48ee2-6bcc-46d8-a77e-dfb6e7d17ee4\">\n",
              "  <button class=\"colab-df-quickchart\" onclick=\"quickchart('df-c1a48ee2-6bcc-46d8-a77e-dfb6e7d17ee4')\"\n",
              "            title=\"Suggest charts\"\n",
              "            style=\"display:none;\">\n",
              "\n",
              "<svg xmlns=\"http://www.w3.org/2000/svg\" height=\"24px\"viewBox=\"0 0 24 24\"\n",
              "     width=\"24px\">\n",
              "    <g>\n",
              "        <path d=\"M19 3H5c-1.1 0-2 .9-2 2v14c0 1.1.9 2 2 2h14c1.1 0 2-.9 2-2V5c0-1.1-.9-2-2-2zM9 17H7v-7h2v7zm4 0h-2V7h2v10zm4 0h-2v-4h2v4z\"/>\n",
              "    </g>\n",
              "</svg>\n",
              "  </button>\n",
              "\n",
              "<style>\n",
              "  .colab-df-quickchart {\n",
              "      --bg-color: #E8F0FE;\n",
              "      --fill-color: #1967D2;\n",
              "      --hover-bg-color: #E2EBFA;\n",
              "      --hover-fill-color: #174EA6;\n",
              "      --disabled-fill-color: #AAA;\n",
              "      --disabled-bg-color: #DDD;\n",
              "  }\n",
              "\n",
              "  [theme=dark] .colab-df-quickchart {\n",
              "      --bg-color: #3B4455;\n",
              "      --fill-color: #D2E3FC;\n",
              "      --hover-bg-color: #434B5C;\n",
              "      --hover-fill-color: #FFFFFF;\n",
              "      --disabled-bg-color: #3B4455;\n",
              "      --disabled-fill-color: #666;\n",
              "  }\n",
              "\n",
              "  .colab-df-quickchart {\n",
              "    background-color: var(--bg-color);\n",
              "    border: none;\n",
              "    border-radius: 50%;\n",
              "    cursor: pointer;\n",
              "    display: none;\n",
              "    fill: var(--fill-color);\n",
              "    height: 32px;\n",
              "    padding: 0;\n",
              "    width: 32px;\n",
              "  }\n",
              "\n",
              "  .colab-df-quickchart:hover {\n",
              "    background-color: var(--hover-bg-color);\n",
              "    box-shadow: 0 1px 2px rgba(60, 64, 67, 0.3), 0 1px 3px 1px rgba(60, 64, 67, 0.15);\n",
              "    fill: var(--button-hover-fill-color);\n",
              "  }\n",
              "\n",
              "  .colab-df-quickchart-complete:disabled,\n",
              "  .colab-df-quickchart-complete:disabled:hover {\n",
              "    background-color: var(--disabled-bg-color);\n",
              "    fill: var(--disabled-fill-color);\n",
              "    box-shadow: none;\n",
              "  }\n",
              "\n",
              "  .colab-df-spinner {\n",
              "    border: 2px solid var(--fill-color);\n",
              "    border-color: transparent;\n",
              "    border-bottom-color: var(--fill-color);\n",
              "    animation:\n",
              "      spin 1s steps(1) infinite;\n",
              "  }\n",
              "\n",
              "  @keyframes spin {\n",
              "    0% {\n",
              "      border-color: transparent;\n",
              "      border-bottom-color: var(--fill-color);\n",
              "      border-left-color: var(--fill-color);\n",
              "    }\n",
              "    20% {\n",
              "      border-color: transparent;\n",
              "      border-left-color: var(--fill-color);\n",
              "      border-top-color: var(--fill-color);\n",
              "    }\n",
              "    30% {\n",
              "      border-color: transparent;\n",
              "      border-left-color: var(--fill-color);\n",
              "      border-top-color: var(--fill-color);\n",
              "      border-right-color: var(--fill-color);\n",
              "    }\n",
              "    40% {\n",
              "      border-color: transparent;\n",
              "      border-right-color: var(--fill-color);\n",
              "      border-top-color: var(--fill-color);\n",
              "    }\n",
              "    60% {\n",
              "      border-color: transparent;\n",
              "      border-right-color: var(--fill-color);\n",
              "    }\n",
              "    80% {\n",
              "      border-color: transparent;\n",
              "      border-right-color: var(--fill-color);\n",
              "      border-bottom-color: var(--fill-color);\n",
              "    }\n",
              "    90% {\n",
              "      border-color: transparent;\n",
              "      border-bottom-color: var(--fill-color);\n",
              "    }\n",
              "  }\n",
              "</style>\n",
              "\n",
              "  <script>\n",
              "    async function quickchart(key) {\n",
              "      const quickchartButtonEl =\n",
              "        document.querySelector('#' + key + ' button');\n",
              "      quickchartButtonEl.disabled = true;  // To prevent multiple clicks.\n",
              "      quickchartButtonEl.classList.add('colab-df-spinner');\n",
              "      try {\n",
              "        const charts = await google.colab.kernel.invokeFunction(\n",
              "            'suggestCharts', [key], {});\n",
              "      } catch (error) {\n",
              "        console.error('Error during call to suggestCharts:', error);\n",
              "      }\n",
              "      quickchartButtonEl.classList.remove('colab-df-spinner');\n",
              "      quickchartButtonEl.classList.add('colab-df-quickchart-complete');\n",
              "    }\n",
              "    (() => {\n",
              "      let quickchartButtonEl =\n",
              "        document.querySelector('#df-c1a48ee2-6bcc-46d8-a77e-dfb6e7d17ee4 button');\n",
              "      quickchartButtonEl.style.display =\n",
              "        google.colab.kernel.accessAllowed ? 'block' : 'none';\n",
              "    })();\n",
              "  </script>\n",
              "</div>\n",
              "\n",
              "    </div>\n",
              "  </div>\n"
            ],
            "application/vnd.google.colaboratory.intrinsic+json": {
              "type": "dataframe",
              "variable_name": "df",
              "summary": "{\n  \"name\": \"df\",\n  \"rows\": 6810,\n  \"fields\": [\n    {\n      \"column\": \"isbn13\",\n      \"properties\": {\n        \"dtype\": \"number\",\n        \"std\": 606891056,\n        \"min\": 9780002005883,\n        \"max\": 9789042003408,\n        \"num_unique_values\": 6810,\n        \"samples\": [\n          9780312994815,\n          9780671823498,\n          9780375725036\n        ],\n        \"semantic_type\": \"\",\n        \"description\": \"\"\n      }\n    },\n    {\n      \"column\": \"isbn10\",\n      \"properties\": {\n        \"dtype\": \"string\",\n        \"num_unique_values\": 6810,\n        \"samples\": [\n          \"0312994818\",\n          \"0671823493\",\n          \"0375725032\"\n        ],\n        \"semantic_type\": \"\",\n        \"description\": \"\"\n      }\n    },\n    {\n      \"column\": \"title\",\n      \"properties\": {\n        \"dtype\": \"string\",\n        \"num_unique_values\": 6398,\n        \"samples\": [\n          \"Rebekah\",\n          \"How to be a Perfect Stranger\",\n          \"Euripides, 3\"\n        ],\n        \"semantic_type\": \"\",\n        \"description\": \"\"\n      }\n    },\n    {\n      \"column\": \"subtitle\",\n      \"properties\": {\n        \"dtype\": \"category\",\n        \"num_unique_values\": 2009,\n        \"samples\": [\n          \"C.S. Lewis, Madeleine L'Engle, J.R. Tolkien, George MacDonald, G.K. Chesterton, Charles Williams, Dante Alighieri, John Bunyan, Walter Wangerin, Robert Siegel, and Hannah Hurnard\",\n          \"A Philosophical Translation\",\n          \"A Story of Race and Inheritance\"\n        ],\n        \"semantic_type\": \"\",\n        \"description\": \"\"\n      }\n    },\n    {\n      \"column\": \"authors\",\n      \"properties\": {\n        \"dtype\": \"string\",\n        \"num_unique_values\": 3780,\n        \"samples\": [\n          \"Daisetz Teitaro Suzuki;Erich Fromm;Richard De Martino\",\n          \"Roberta Gellis\",\n          \"Toni Morrison\"\n        ],\n        \"semantic_type\": \"\",\n        \"description\": \"\"\n      }\n    },\n    {\n      \"column\": \"categories\",\n      \"properties\": {\n        \"dtype\": \"category\",\n        \"num_unique_values\": 567,\n        \"samples\": [\n          \"Mars (Planet)\",\n          \"Assassins\",\n          \"United States\"\n        ],\n        \"semantic_type\": \"\",\n        \"description\": \"\"\n      }\n    },\n    {\n      \"column\": \"thumbnail\",\n      \"properties\": {\n        \"dtype\": \"string\",\n        \"num_unique_values\": 6481,\n        \"samples\": [\n          \"http://books.google.com/books/content?id=5cVKKLSC788C&printsec=frontcover&img=1&zoom=1&edge=curl&source=gbs_api\",\n          \"http://books.google.com/books/content?id=5o70W8CR6vMC&printsec=frontcover&img=1&zoom=1&source=gbs_api\",\n          \"http://books.google.com/books/content?id=M2JQxGf2Ex8C&printsec=frontcover&img=1&zoom=1&source=gbs_api\"\n        ],\n        \"semantic_type\": \"\",\n        \"description\": \"\"\n      }\n    },\n    {\n      \"column\": \"description\",\n      \"properties\": {\n        \"dtype\": \"string\",\n        \"num_unique_values\": 6474,\n        \"samples\": [\n          \"When sixteen-year-old Beka becomes \\\"Puppy\\\" to a pair of \\\"Dogs,\\\" as the Provost's Guards are called, she uses her police training, natural abilities, and a touch of magic to help them solve the case of a murdered baby in Tortall's Lower City.\",\n          \"The controversial memoir of a top British spy which finally reveals what really went on behind the scenes of the Falklands War For five years before the Falklands War, Hugh Bicheno was one of the top British spies in Argentina. As such, he gathered hard, corroborated intelligence on Argentine intentions over the Falklands - which the British establishment then chose to ignore. The reasons behind this British decision, and its disastrous and inevitable consequences in the South Atlantic, are the main story of this book. There were three main players in the war, each of them trying to overcome their own cultural baggage. The Argentines were riddled with guilt: after years of fighting a morally repugnant campaign against its own people, the Argentine military saw a war for the Malvinas islands as a perfect opportunity to win back their self-respect. The hands of the Americans were also bloody from the likewise dirty wars they had sponsored and abetted in Central America. For Britain it was simply the last straw after decades of humiliation.\",\n          \"Detective Sergeant Lloyd Hopkins of the LAPD, fueled by a desire to protect innocence, confronts a murderer who is driven by the same forces when he investigates a series of murders of young women in the Los Angeles area. Reprint. 15,000 first printing.\"\n        ],\n        \"semantic_type\": \"\",\n        \"description\": \"\"\n      }\n    },\n    {\n      \"column\": \"published_year\",\n      \"properties\": {\n        \"dtype\": \"number\",\n        \"std\": 10.48425716008255,\n        \"min\": 1853.0,\n        \"max\": 2019.0,\n        \"num_unique_values\": 94,\n        \"samples\": [\n          1980.0,\n          1966.0,\n          1975.0\n        ],\n        \"semantic_type\": \"\",\n        \"description\": \"\"\n      }\n    },\n    {\n      \"column\": \"average_rating\",\n      \"properties\": {\n        \"dtype\": \"number\",\n        \"std\": 0.33135160616178455,\n        \"min\": 0.0,\n        \"max\": 5.0,\n        \"num_unique_values\": 200,\n        \"samples\": [\n          4.5,\n          4.23,\n          3.56\n        ],\n        \"semantic_type\": \"\",\n        \"description\": \"\"\n      }\n    },\n    {\n      \"column\": \"num_pages\",\n      \"properties\": {\n        \"dtype\": \"number\",\n        \"std\": 242.37678264542132,\n        \"min\": 0.0,\n        \"max\": 3342.0,\n        \"num_unique_values\": 915,\n        \"samples\": [\n          154.0,\n          3020.0,\n          138.0\n        ],\n        \"semantic_type\": \"\",\n        \"description\": \"\"\n      }\n    },\n    {\n      \"column\": \"ratings_count\",\n      \"properties\": {\n        \"dtype\": \"number\",\n        \"std\": 137620.6786468925,\n        \"min\": 0.0,\n        \"max\": 5629932.0,\n        \"num_unique_values\": 3881,\n        \"samples\": [\n          23456.0,\n          213.0,\n          554.0\n        ],\n        \"semantic_type\": \"\",\n        \"description\": \"\"\n      }\n    }\n  ]\n}"
            }
          },
          "metadata": {},
          "execution_count": 4
        }
      ],
      "source": [
        "import pandas as pd\n",
        "df = pd.read_csv('data.csv')\n",
        "df.head()"
      ]
    },
    {
      "cell_type": "markdown",
      "source": [
        "2. Revisamos información general del dataset."
      ],
      "metadata": {
        "id": "PSoMFHC9rFBt"
      }
    },
    {
      "cell_type": "code",
      "source": [
        "df.info()"
      ],
      "metadata": {
        "colab": {
          "base_uri": "https://localhost:8080/"
        },
        "id": "ZLo7wpcZ_Yo9",
        "outputId": "5e2ef7a4-44fa-40f2-cf74-fbbc88851788"
      },
      "execution_count": 5,
      "outputs": [
        {
          "output_type": "stream",
          "name": "stdout",
          "text": [
            "<class 'pandas.core.frame.DataFrame'>\n",
            "RangeIndex: 6810 entries, 0 to 6809\n",
            "Data columns (total 12 columns):\n",
            " #   Column          Non-Null Count  Dtype  \n",
            "---  ------          --------------  -----  \n",
            " 0   isbn13          6810 non-null   int64  \n",
            " 1   isbn10          6810 non-null   object \n",
            " 2   title           6810 non-null   object \n",
            " 3   subtitle        2381 non-null   object \n",
            " 4   authors         6738 non-null   object \n",
            " 5   categories      6711 non-null   object \n",
            " 6   thumbnail       6481 non-null   object \n",
            " 7   description     6548 non-null   object \n",
            " 8   published_year  6804 non-null   float64\n",
            " 9   average_rating  6767 non-null   float64\n",
            " 10  num_pages       6767 non-null   float64\n",
            " 11  ratings_count   6767 non-null   float64\n",
            "dtypes: float64(4), int64(1), object(7)\n",
            "memory usage: 638.6+ KB\n"
          ]
        }
      ]
    },
    {
      "cell_type": "markdown",
      "source": [
        "3. Vamos a revisar cuántos datos nulos\n",
        "tenemos, y evaluamos qué hacemos con ellos, si eliminamos o imputamos estos datos."
      ],
      "metadata": {
        "id": "8y1RGhvDDT-F"
      }
    },
    {
      "cell_type": "code",
      "source": [
        "df.isnull().sum()\n"
      ],
      "metadata": {
        "colab": {
          "base_uri": "https://localhost:8080/",
          "height": 460
        },
        "id": "oNktj3hYC1vw",
        "outputId": "5508ab25-8f8d-4a41-95de-b5c9ef06aee5"
      },
      "execution_count": 6,
      "outputs": [
        {
          "output_type": "execute_result",
          "data": {
            "text/plain": [
              "isbn13               0\n",
              "isbn10               0\n",
              "title                0\n",
              "subtitle          4429\n",
              "authors             72\n",
              "categories          99\n",
              "thumbnail          329\n",
              "description        262\n",
              "published_year       6\n",
              "average_rating      43\n",
              "num_pages           43\n",
              "ratings_count       43\n",
              "dtype: int64"
            ],
            "text/html": [
              "<div>\n",
              "<style scoped>\n",
              "    .dataframe tbody tr th:only-of-type {\n",
              "        vertical-align: middle;\n",
              "    }\n",
              "\n",
              "    .dataframe tbody tr th {\n",
              "        vertical-align: top;\n",
              "    }\n",
              "\n",
              "    .dataframe thead th {\n",
              "        text-align: right;\n",
              "    }\n",
              "</style>\n",
              "<table border=\"1\" class=\"dataframe\">\n",
              "  <thead>\n",
              "    <tr style=\"text-align: right;\">\n",
              "      <th></th>\n",
              "      <th>0</th>\n",
              "    </tr>\n",
              "  </thead>\n",
              "  <tbody>\n",
              "    <tr>\n",
              "      <th>isbn13</th>\n",
              "      <td>0</td>\n",
              "    </tr>\n",
              "    <tr>\n",
              "      <th>isbn10</th>\n",
              "      <td>0</td>\n",
              "    </tr>\n",
              "    <tr>\n",
              "      <th>title</th>\n",
              "      <td>0</td>\n",
              "    </tr>\n",
              "    <tr>\n",
              "      <th>subtitle</th>\n",
              "      <td>4429</td>\n",
              "    </tr>\n",
              "    <tr>\n",
              "      <th>authors</th>\n",
              "      <td>72</td>\n",
              "    </tr>\n",
              "    <tr>\n",
              "      <th>categories</th>\n",
              "      <td>99</td>\n",
              "    </tr>\n",
              "    <tr>\n",
              "      <th>thumbnail</th>\n",
              "      <td>329</td>\n",
              "    </tr>\n",
              "    <tr>\n",
              "      <th>description</th>\n",
              "      <td>262</td>\n",
              "    </tr>\n",
              "    <tr>\n",
              "      <th>published_year</th>\n",
              "      <td>6</td>\n",
              "    </tr>\n",
              "    <tr>\n",
              "      <th>average_rating</th>\n",
              "      <td>43</td>\n",
              "    </tr>\n",
              "    <tr>\n",
              "      <th>num_pages</th>\n",
              "      <td>43</td>\n",
              "    </tr>\n",
              "    <tr>\n",
              "      <th>ratings_count</th>\n",
              "      <td>43</td>\n",
              "    </tr>\n",
              "  </tbody>\n",
              "</table>\n",
              "</div><br><label><b>dtype:</b> int64</label>"
            ]
          },
          "metadata": {},
          "execution_count": 6
        }
      ]
    },
    {
      "cell_type": "markdown",
      "source": [
        "Descubrimos que subtitle tiene más de 4000 valores nulos,que es el 65%, podríamos rellenar con algún texto como \"no subtítulo\" para mantenerlo, hay otros como authors, description y algunos más que también los tienen a menor cantidad."
      ],
      "metadata": {
        "id": "7mbvsgP3s_K_"
      }
    },
    {
      "cell_type": "code",
      "source": [
        "df[\"subtitle\"]=df[\"subtitle\"].fillna(\"no subtitle\")\n",
        "df[\"authors\"]=df[\"authors\"].fillna(\"no authors\")\n",
        "df[\"description\"]=df[\"description\"].fillna(\"no description\")\n",
        "df.isnull().sum()"
      ],
      "metadata": {
        "colab": {
          "base_uri": "https://localhost:8080/",
          "height": 460
        },
        "id": "BEn75Ig86u9h",
        "outputId": "51cd0177-b85a-49b3-f618-efd19083a615"
      },
      "execution_count": 7,
      "outputs": [
        {
          "output_type": "execute_result",
          "data": {
            "text/plain": [
              "isbn13              0\n",
              "isbn10              0\n",
              "title               0\n",
              "subtitle            0\n",
              "authors             0\n",
              "categories         99\n",
              "thumbnail         329\n",
              "description         0\n",
              "published_year      6\n",
              "average_rating     43\n",
              "num_pages          43\n",
              "ratings_count      43\n",
              "dtype: int64"
            ],
            "text/html": [
              "<div>\n",
              "<style scoped>\n",
              "    .dataframe tbody tr th:only-of-type {\n",
              "        vertical-align: middle;\n",
              "    }\n",
              "\n",
              "    .dataframe tbody tr th {\n",
              "        vertical-align: top;\n",
              "    }\n",
              "\n",
              "    .dataframe thead th {\n",
              "        text-align: right;\n",
              "    }\n",
              "</style>\n",
              "<table border=\"1\" class=\"dataframe\">\n",
              "  <thead>\n",
              "    <tr style=\"text-align: right;\">\n",
              "      <th></th>\n",
              "      <th>0</th>\n",
              "    </tr>\n",
              "  </thead>\n",
              "  <tbody>\n",
              "    <tr>\n",
              "      <th>isbn13</th>\n",
              "      <td>0</td>\n",
              "    </tr>\n",
              "    <tr>\n",
              "      <th>isbn10</th>\n",
              "      <td>0</td>\n",
              "    </tr>\n",
              "    <tr>\n",
              "      <th>title</th>\n",
              "      <td>0</td>\n",
              "    </tr>\n",
              "    <tr>\n",
              "      <th>subtitle</th>\n",
              "      <td>0</td>\n",
              "    </tr>\n",
              "    <tr>\n",
              "      <th>authors</th>\n",
              "      <td>0</td>\n",
              "    </tr>\n",
              "    <tr>\n",
              "      <th>categories</th>\n",
              "      <td>99</td>\n",
              "    </tr>\n",
              "    <tr>\n",
              "      <th>thumbnail</th>\n",
              "      <td>329</td>\n",
              "    </tr>\n",
              "    <tr>\n",
              "      <th>description</th>\n",
              "      <td>0</td>\n",
              "    </tr>\n",
              "    <tr>\n",
              "      <th>published_year</th>\n",
              "      <td>6</td>\n",
              "    </tr>\n",
              "    <tr>\n",
              "      <th>average_rating</th>\n",
              "      <td>43</td>\n",
              "    </tr>\n",
              "    <tr>\n",
              "      <th>num_pages</th>\n",
              "      <td>43</td>\n",
              "    </tr>\n",
              "    <tr>\n",
              "      <th>ratings_count</th>\n",
              "      <td>43</td>\n",
              "    </tr>\n",
              "  </tbody>\n",
              "</table>\n",
              "</div><br><label><b>dtype:</b> int64</label>"
            ]
          },
          "metadata": {},
          "execution_count": 7
        }
      ]
    },
    {
      "cell_type": "markdown",
      "source": [
        "Categorías equivale al 1.4% los datos nulos, las eliminamos porque creo que podría afectar al análisis.  También eliminamos los 4 de published_year ya que son solo 4, una cantidad insignificante para nuestro análisis, después de valorar poner, moda o mediana decidimos eliminar porque podría afectar el análisis."
      ],
      "metadata": {
        "id": "jNxbmHpr7tbf"
      }
    },
    {
      "cell_type": "code",
      "source": [
        "df = df.dropna(subset=[\"categories\"])\n",
        "df = df.dropna(subset=[\"published_year\"])\n",
        "df.isnull().sum()"
      ],
      "metadata": {
        "colab": {
          "base_uri": "https://localhost:8080/",
          "height": 460
        },
        "id": "KMdwvEkV76cp",
        "outputId": "76c5e15f-58d9-4289-f488-0d60e3800122"
      },
      "execution_count": 8,
      "outputs": [
        {
          "output_type": "execute_result",
          "data": {
            "text/plain": [
              "isbn13              0\n",
              "isbn10              0\n",
              "title               0\n",
              "subtitle            0\n",
              "authors             0\n",
              "categories          0\n",
              "thumbnail         275\n",
              "description         0\n",
              "published_year      0\n",
              "average_rating     39\n",
              "num_pages          39\n",
              "ratings_count      39\n",
              "dtype: int64"
            ],
            "text/html": [
              "<div>\n",
              "<style scoped>\n",
              "    .dataframe tbody tr th:only-of-type {\n",
              "        vertical-align: middle;\n",
              "    }\n",
              "\n",
              "    .dataframe tbody tr th {\n",
              "        vertical-align: top;\n",
              "    }\n",
              "\n",
              "    .dataframe thead th {\n",
              "        text-align: right;\n",
              "    }\n",
              "</style>\n",
              "<table border=\"1\" class=\"dataframe\">\n",
              "  <thead>\n",
              "    <tr style=\"text-align: right;\">\n",
              "      <th></th>\n",
              "      <th>0</th>\n",
              "    </tr>\n",
              "  </thead>\n",
              "  <tbody>\n",
              "    <tr>\n",
              "      <th>isbn13</th>\n",
              "      <td>0</td>\n",
              "    </tr>\n",
              "    <tr>\n",
              "      <th>isbn10</th>\n",
              "      <td>0</td>\n",
              "    </tr>\n",
              "    <tr>\n",
              "      <th>title</th>\n",
              "      <td>0</td>\n",
              "    </tr>\n",
              "    <tr>\n",
              "      <th>subtitle</th>\n",
              "      <td>0</td>\n",
              "    </tr>\n",
              "    <tr>\n",
              "      <th>authors</th>\n",
              "      <td>0</td>\n",
              "    </tr>\n",
              "    <tr>\n",
              "      <th>categories</th>\n",
              "      <td>0</td>\n",
              "    </tr>\n",
              "    <tr>\n",
              "      <th>thumbnail</th>\n",
              "      <td>275</td>\n",
              "    </tr>\n",
              "    <tr>\n",
              "      <th>description</th>\n",
              "      <td>0</td>\n",
              "    </tr>\n",
              "    <tr>\n",
              "      <th>published_year</th>\n",
              "      <td>0</td>\n",
              "    </tr>\n",
              "    <tr>\n",
              "      <th>average_rating</th>\n",
              "      <td>39</td>\n",
              "    </tr>\n",
              "    <tr>\n",
              "      <th>num_pages</th>\n",
              "      <td>39</td>\n",
              "    </tr>\n",
              "    <tr>\n",
              "      <th>ratings_count</th>\n",
              "      <td>39</td>\n",
              "    </tr>\n",
              "  </tbody>\n",
              "</table>\n",
              "</div><br><label><b>dtype:</b> int64</label>"
            ]
          },
          "metadata": {},
          "execution_count": 8
        }
      ]
    },
    {
      "cell_type": "markdown",
      "source": [
        "Thumbnail no debería afectar al análisis numérico, así que lo rellenamos con \"No image\", de momento description también lo rellenaremos con \"No description\""
      ],
      "metadata": {
        "id": "hBOvvgod8YQP"
      }
    },
    {
      "cell_type": "code",
      "source": [
        "df[\"thumbnail\"] = df[\"thumbnail\"].fillna(\"No image\")\n",
        "df[\"description\"] = df[\"description\"].fillna(\"No description\")\n",
        "df.isnull().sum()"
      ],
      "metadata": {
        "colab": {
          "base_uri": "https://localhost:8080/",
          "height": 460
        },
        "id": "p3nbrE3A8h4Y",
        "outputId": "beed6974-8ca1-44f2-d91e-33421fe6002d"
      },
      "execution_count": 9,
      "outputs": [
        {
          "output_type": "execute_result",
          "data": {
            "text/plain": [
              "isbn13             0\n",
              "isbn10             0\n",
              "title              0\n",
              "subtitle           0\n",
              "authors            0\n",
              "categories         0\n",
              "thumbnail          0\n",
              "description        0\n",
              "published_year     0\n",
              "average_rating    39\n",
              "num_pages         39\n",
              "ratings_count     39\n",
              "dtype: int64"
            ],
            "text/html": [
              "<div>\n",
              "<style scoped>\n",
              "    .dataframe tbody tr th:only-of-type {\n",
              "        vertical-align: middle;\n",
              "    }\n",
              "\n",
              "    .dataframe tbody tr th {\n",
              "        vertical-align: top;\n",
              "    }\n",
              "\n",
              "    .dataframe thead th {\n",
              "        text-align: right;\n",
              "    }\n",
              "</style>\n",
              "<table border=\"1\" class=\"dataframe\">\n",
              "  <thead>\n",
              "    <tr style=\"text-align: right;\">\n",
              "      <th></th>\n",
              "      <th>0</th>\n",
              "    </tr>\n",
              "  </thead>\n",
              "  <tbody>\n",
              "    <tr>\n",
              "      <th>isbn13</th>\n",
              "      <td>0</td>\n",
              "    </tr>\n",
              "    <tr>\n",
              "      <th>isbn10</th>\n",
              "      <td>0</td>\n",
              "    </tr>\n",
              "    <tr>\n",
              "      <th>title</th>\n",
              "      <td>0</td>\n",
              "    </tr>\n",
              "    <tr>\n",
              "      <th>subtitle</th>\n",
              "      <td>0</td>\n",
              "    </tr>\n",
              "    <tr>\n",
              "      <th>authors</th>\n",
              "      <td>0</td>\n",
              "    </tr>\n",
              "    <tr>\n",
              "      <th>categories</th>\n",
              "      <td>0</td>\n",
              "    </tr>\n",
              "    <tr>\n",
              "      <th>thumbnail</th>\n",
              "      <td>0</td>\n",
              "    </tr>\n",
              "    <tr>\n",
              "      <th>description</th>\n",
              "      <td>0</td>\n",
              "    </tr>\n",
              "    <tr>\n",
              "      <th>published_year</th>\n",
              "      <td>0</td>\n",
              "    </tr>\n",
              "    <tr>\n",
              "      <th>average_rating</th>\n",
              "      <td>39</td>\n",
              "    </tr>\n",
              "    <tr>\n",
              "      <th>num_pages</th>\n",
              "      <td>39</td>\n",
              "    </tr>\n",
              "    <tr>\n",
              "      <th>ratings_count</th>\n",
              "      <td>39</td>\n",
              "    </tr>\n",
              "  </tbody>\n",
              "</table>\n",
              "</div><br><label><b>dtype:</b> int64</label>"
            ]
          },
          "metadata": {},
          "execution_count": 9
        }
      ]
    },
    {
      "cell_type": "markdown",
      "source": [
        "Los siguientes los vamos a rellenar con la mediana, ya que puede ser una buena solución para que no nos afecte en el análisis , así que aplicamos la mediana para dar equilibrio."
      ],
      "metadata": {
        "id": "hTz72ZAkZBRK"
      }
    },
    {
      "cell_type": "code",
      "source": [
        "df[\"average_rating\"] = df[\"average_rating\"].fillna(df[\"average_rating\"].median())\n",
        "df[\"num_pages\"] = df[\"num_pages\"].fillna(df[\"num_pages\"].median())\n",
        "df[\"ratings_count\"] = df[\"ratings_count\"].fillna(df[\"ratings_count\"].median())\n",
        "df.isnull().sum()"
      ],
      "metadata": {
        "colab": {
          "base_uri": "https://localhost:8080/",
          "height": 460
        },
        "id": "92VFGp7gZUfp",
        "outputId": "b8277486-79a3-41f5-bd6f-a4d15bb4f541"
      },
      "execution_count": 10,
      "outputs": [
        {
          "output_type": "execute_result",
          "data": {
            "text/plain": [
              "isbn13            0\n",
              "isbn10            0\n",
              "title             0\n",
              "subtitle          0\n",
              "authors           0\n",
              "categories        0\n",
              "thumbnail         0\n",
              "description       0\n",
              "published_year    0\n",
              "average_rating    0\n",
              "num_pages         0\n",
              "ratings_count     0\n",
              "dtype: int64"
            ],
            "text/html": [
              "<div>\n",
              "<style scoped>\n",
              "    .dataframe tbody tr th:only-of-type {\n",
              "        vertical-align: middle;\n",
              "    }\n",
              "\n",
              "    .dataframe tbody tr th {\n",
              "        vertical-align: top;\n",
              "    }\n",
              "\n",
              "    .dataframe thead th {\n",
              "        text-align: right;\n",
              "    }\n",
              "</style>\n",
              "<table border=\"1\" class=\"dataframe\">\n",
              "  <thead>\n",
              "    <tr style=\"text-align: right;\">\n",
              "      <th></th>\n",
              "      <th>0</th>\n",
              "    </tr>\n",
              "  </thead>\n",
              "  <tbody>\n",
              "    <tr>\n",
              "      <th>isbn13</th>\n",
              "      <td>0</td>\n",
              "    </tr>\n",
              "    <tr>\n",
              "      <th>isbn10</th>\n",
              "      <td>0</td>\n",
              "    </tr>\n",
              "    <tr>\n",
              "      <th>title</th>\n",
              "      <td>0</td>\n",
              "    </tr>\n",
              "    <tr>\n",
              "      <th>subtitle</th>\n",
              "      <td>0</td>\n",
              "    </tr>\n",
              "    <tr>\n",
              "      <th>authors</th>\n",
              "      <td>0</td>\n",
              "    </tr>\n",
              "    <tr>\n",
              "      <th>categories</th>\n",
              "      <td>0</td>\n",
              "    </tr>\n",
              "    <tr>\n",
              "      <th>thumbnail</th>\n",
              "      <td>0</td>\n",
              "    </tr>\n",
              "    <tr>\n",
              "      <th>description</th>\n",
              "      <td>0</td>\n",
              "    </tr>\n",
              "    <tr>\n",
              "      <th>published_year</th>\n",
              "      <td>0</td>\n",
              "    </tr>\n",
              "    <tr>\n",
              "      <th>average_rating</th>\n",
              "      <td>0</td>\n",
              "    </tr>\n",
              "    <tr>\n",
              "      <th>num_pages</th>\n",
              "      <td>0</td>\n",
              "    </tr>\n",
              "    <tr>\n",
              "      <th>ratings_count</th>\n",
              "      <td>0</td>\n",
              "    </tr>\n",
              "  </tbody>\n",
              "</table>\n",
              "</div><br><label><b>dtype:</b> int64</label>"
            ]
          },
          "metadata": {},
          "execution_count": 10
        }
      ]
    },
    {
      "cell_type": "code",
      "source": [
        "df.head()"
      ],
      "metadata": {
        "colab": {
          "base_uri": "https://localhost:8080/",
          "height": 590
        },
        "id": "Aqh-usv15a7L",
        "outputId": "1be656d8-d52e-496a-dea2-b6dafc419cc5"
      },
      "execution_count": 11,
      "outputs": [
        {
          "output_type": "execute_result",
          "data": {
            "text/plain": [
              "          isbn13      isbn10           title     subtitle  \\\n",
              "0  9780002005883  0002005883          Gilead  no subtitle   \n",
              "1  9780002261982  0002261987    Spider's Web      A Novel   \n",
              "2  9780006163831  0006163831    The One Tree  no subtitle   \n",
              "3  9780006178736  0006178731  Rage of angels  no subtitle   \n",
              "4  9780006280897  0006280897  The Four Loves  no subtitle   \n",
              "\n",
              "                           authors                     categories  \\\n",
              "0               Marilynne Robinson                        Fiction   \n",
              "1  Charles Osborne;Agatha Christie  Detective and mystery stories   \n",
              "2             Stephen R. Donaldson               American fiction   \n",
              "3                   Sidney Sheldon                        Fiction   \n",
              "4              Clive Staples Lewis                 Christian life   \n",
              "\n",
              "                                           thumbnail  \\\n",
              "0  http://books.google.com/books/content?id=KQZCP...   \n",
              "1  http://books.google.com/books/content?id=gA5GP...   \n",
              "2  http://books.google.com/books/content?id=OmQaw...   \n",
              "3  http://books.google.com/books/content?id=FKo2T...   \n",
              "4  http://books.google.com/books/content?id=XhQ5X...   \n",
              "\n",
              "                                         description  published_year  \\\n",
              "0  A NOVEL THAT READERS and critics have been eag...          2004.0   \n",
              "1  A new 'Christie for Christmas' -- a full-lengt...          2000.0   \n",
              "2  Volume Two of Stephen Donaldson's acclaimed se...          1982.0   \n",
              "3  A memorable, mesmerizing heroine Jennifer -- b...          1993.0   \n",
              "4  Lewis' work on the nature of love divides love...          2002.0   \n",
              "\n",
              "   average_rating  num_pages  ratings_count  \n",
              "0            3.85      247.0          361.0  \n",
              "1            3.83      241.0         5164.0  \n",
              "2            3.97      479.0          172.0  \n",
              "3            3.93      512.0        29532.0  \n",
              "4            4.15      170.0        33684.0  "
            ],
            "text/html": [
              "\n",
              "  <div id=\"df-fae710f7-e193-4025-8679-ec21d3117c4b\" class=\"colab-df-container\">\n",
              "    <div>\n",
              "<style scoped>\n",
              "    .dataframe tbody tr th:only-of-type {\n",
              "        vertical-align: middle;\n",
              "    }\n",
              "\n",
              "    .dataframe tbody tr th {\n",
              "        vertical-align: top;\n",
              "    }\n",
              "\n",
              "    .dataframe thead th {\n",
              "        text-align: right;\n",
              "    }\n",
              "</style>\n",
              "<table border=\"1\" class=\"dataframe\">\n",
              "  <thead>\n",
              "    <tr style=\"text-align: right;\">\n",
              "      <th></th>\n",
              "      <th>isbn13</th>\n",
              "      <th>isbn10</th>\n",
              "      <th>title</th>\n",
              "      <th>subtitle</th>\n",
              "      <th>authors</th>\n",
              "      <th>categories</th>\n",
              "      <th>thumbnail</th>\n",
              "      <th>description</th>\n",
              "      <th>published_year</th>\n",
              "      <th>average_rating</th>\n",
              "      <th>num_pages</th>\n",
              "      <th>ratings_count</th>\n",
              "    </tr>\n",
              "  </thead>\n",
              "  <tbody>\n",
              "    <tr>\n",
              "      <th>0</th>\n",
              "      <td>9780002005883</td>\n",
              "      <td>0002005883</td>\n",
              "      <td>Gilead</td>\n",
              "      <td>no subtitle</td>\n",
              "      <td>Marilynne Robinson</td>\n",
              "      <td>Fiction</td>\n",
              "      <td>http://books.google.com/books/content?id=KQZCP...</td>\n",
              "      <td>A NOVEL THAT READERS and critics have been eag...</td>\n",
              "      <td>2004.0</td>\n",
              "      <td>3.85</td>\n",
              "      <td>247.0</td>\n",
              "      <td>361.0</td>\n",
              "    </tr>\n",
              "    <tr>\n",
              "      <th>1</th>\n",
              "      <td>9780002261982</td>\n",
              "      <td>0002261987</td>\n",
              "      <td>Spider's Web</td>\n",
              "      <td>A Novel</td>\n",
              "      <td>Charles Osborne;Agatha Christie</td>\n",
              "      <td>Detective and mystery stories</td>\n",
              "      <td>http://books.google.com/books/content?id=gA5GP...</td>\n",
              "      <td>A new 'Christie for Christmas' -- a full-lengt...</td>\n",
              "      <td>2000.0</td>\n",
              "      <td>3.83</td>\n",
              "      <td>241.0</td>\n",
              "      <td>5164.0</td>\n",
              "    </tr>\n",
              "    <tr>\n",
              "      <th>2</th>\n",
              "      <td>9780006163831</td>\n",
              "      <td>0006163831</td>\n",
              "      <td>The One Tree</td>\n",
              "      <td>no subtitle</td>\n",
              "      <td>Stephen R. Donaldson</td>\n",
              "      <td>American fiction</td>\n",
              "      <td>http://books.google.com/books/content?id=OmQaw...</td>\n",
              "      <td>Volume Two of Stephen Donaldson's acclaimed se...</td>\n",
              "      <td>1982.0</td>\n",
              "      <td>3.97</td>\n",
              "      <td>479.0</td>\n",
              "      <td>172.0</td>\n",
              "    </tr>\n",
              "    <tr>\n",
              "      <th>3</th>\n",
              "      <td>9780006178736</td>\n",
              "      <td>0006178731</td>\n",
              "      <td>Rage of angels</td>\n",
              "      <td>no subtitle</td>\n",
              "      <td>Sidney Sheldon</td>\n",
              "      <td>Fiction</td>\n",
              "      <td>http://books.google.com/books/content?id=FKo2T...</td>\n",
              "      <td>A memorable, mesmerizing heroine Jennifer -- b...</td>\n",
              "      <td>1993.0</td>\n",
              "      <td>3.93</td>\n",
              "      <td>512.0</td>\n",
              "      <td>29532.0</td>\n",
              "    </tr>\n",
              "    <tr>\n",
              "      <th>4</th>\n",
              "      <td>9780006280897</td>\n",
              "      <td>0006280897</td>\n",
              "      <td>The Four Loves</td>\n",
              "      <td>no subtitle</td>\n",
              "      <td>Clive Staples Lewis</td>\n",
              "      <td>Christian life</td>\n",
              "      <td>http://books.google.com/books/content?id=XhQ5X...</td>\n",
              "      <td>Lewis' work on the nature of love divides love...</td>\n",
              "      <td>2002.0</td>\n",
              "      <td>4.15</td>\n",
              "      <td>170.0</td>\n",
              "      <td>33684.0</td>\n",
              "    </tr>\n",
              "  </tbody>\n",
              "</table>\n",
              "</div>\n",
              "    <div class=\"colab-df-buttons\">\n",
              "\n",
              "  <div class=\"colab-df-container\">\n",
              "    <button class=\"colab-df-convert\" onclick=\"convertToInteractive('df-fae710f7-e193-4025-8679-ec21d3117c4b')\"\n",
              "            title=\"Convert this dataframe to an interactive table.\"\n",
              "            style=\"display:none;\">\n",
              "\n",
              "  <svg xmlns=\"http://www.w3.org/2000/svg\" height=\"24px\" viewBox=\"0 -960 960 960\">\n",
              "    <path d=\"M120-120v-720h720v720H120Zm60-500h600v-160H180v160Zm220 220h160v-160H400v160Zm0 220h160v-160H400v160ZM180-400h160v-160H180v160Zm440 0h160v-160H620v160ZM180-180h160v-160H180v160Zm440 0h160v-160H620v160Z\"/>\n",
              "  </svg>\n",
              "    </button>\n",
              "\n",
              "  <style>\n",
              "    .colab-df-container {\n",
              "      display:flex;\n",
              "      gap: 12px;\n",
              "    }\n",
              "\n",
              "    .colab-df-convert {\n",
              "      background-color: #E8F0FE;\n",
              "      border: none;\n",
              "      border-radius: 50%;\n",
              "      cursor: pointer;\n",
              "      display: none;\n",
              "      fill: #1967D2;\n",
              "      height: 32px;\n",
              "      padding: 0 0 0 0;\n",
              "      width: 32px;\n",
              "    }\n",
              "\n",
              "    .colab-df-convert:hover {\n",
              "      background-color: #E2EBFA;\n",
              "      box-shadow: 0px 1px 2px rgba(60, 64, 67, 0.3), 0px 1px 3px 1px rgba(60, 64, 67, 0.15);\n",
              "      fill: #174EA6;\n",
              "    }\n",
              "\n",
              "    .colab-df-buttons div {\n",
              "      margin-bottom: 4px;\n",
              "    }\n",
              "\n",
              "    [theme=dark] .colab-df-convert {\n",
              "      background-color: #3B4455;\n",
              "      fill: #D2E3FC;\n",
              "    }\n",
              "\n",
              "    [theme=dark] .colab-df-convert:hover {\n",
              "      background-color: #434B5C;\n",
              "      box-shadow: 0px 1px 3px 1px rgba(0, 0, 0, 0.15);\n",
              "      filter: drop-shadow(0px 1px 2px rgba(0, 0, 0, 0.3));\n",
              "      fill: #FFFFFF;\n",
              "    }\n",
              "  </style>\n",
              "\n",
              "    <script>\n",
              "      const buttonEl =\n",
              "        document.querySelector('#df-fae710f7-e193-4025-8679-ec21d3117c4b button.colab-df-convert');\n",
              "      buttonEl.style.display =\n",
              "        google.colab.kernel.accessAllowed ? 'block' : 'none';\n",
              "\n",
              "      async function convertToInteractive(key) {\n",
              "        const element = document.querySelector('#df-fae710f7-e193-4025-8679-ec21d3117c4b');\n",
              "        const dataTable =\n",
              "          await google.colab.kernel.invokeFunction('convertToInteractive',\n",
              "                                                    [key], {});\n",
              "        if (!dataTable) return;\n",
              "\n",
              "        const docLinkHtml = 'Like what you see? Visit the ' +\n",
              "          '<a target=\"_blank\" href=https://colab.research.google.com/notebooks/data_table.ipynb>data table notebook</a>'\n",
              "          + ' to learn more about interactive tables.';\n",
              "        element.innerHTML = '';\n",
              "        dataTable['output_type'] = 'display_data';\n",
              "        await google.colab.output.renderOutput(dataTable, element);\n",
              "        const docLink = document.createElement('div');\n",
              "        docLink.innerHTML = docLinkHtml;\n",
              "        element.appendChild(docLink);\n",
              "      }\n",
              "    </script>\n",
              "  </div>\n",
              "\n",
              "\n",
              "<div id=\"df-31398800-a052-4e5f-8af0-058d4f962278\">\n",
              "  <button class=\"colab-df-quickchart\" onclick=\"quickchart('df-31398800-a052-4e5f-8af0-058d4f962278')\"\n",
              "            title=\"Suggest charts\"\n",
              "            style=\"display:none;\">\n",
              "\n",
              "<svg xmlns=\"http://www.w3.org/2000/svg\" height=\"24px\"viewBox=\"0 0 24 24\"\n",
              "     width=\"24px\">\n",
              "    <g>\n",
              "        <path d=\"M19 3H5c-1.1 0-2 .9-2 2v14c0 1.1.9 2 2 2h14c1.1 0 2-.9 2-2V5c0-1.1-.9-2-2-2zM9 17H7v-7h2v7zm4 0h-2V7h2v10zm4 0h-2v-4h2v4z\"/>\n",
              "    </g>\n",
              "</svg>\n",
              "  </button>\n",
              "\n",
              "<style>\n",
              "  .colab-df-quickchart {\n",
              "      --bg-color: #E8F0FE;\n",
              "      --fill-color: #1967D2;\n",
              "      --hover-bg-color: #E2EBFA;\n",
              "      --hover-fill-color: #174EA6;\n",
              "      --disabled-fill-color: #AAA;\n",
              "      --disabled-bg-color: #DDD;\n",
              "  }\n",
              "\n",
              "  [theme=dark] .colab-df-quickchart {\n",
              "      --bg-color: #3B4455;\n",
              "      --fill-color: #D2E3FC;\n",
              "      --hover-bg-color: #434B5C;\n",
              "      --hover-fill-color: #FFFFFF;\n",
              "      --disabled-bg-color: #3B4455;\n",
              "      --disabled-fill-color: #666;\n",
              "  }\n",
              "\n",
              "  .colab-df-quickchart {\n",
              "    background-color: var(--bg-color);\n",
              "    border: none;\n",
              "    border-radius: 50%;\n",
              "    cursor: pointer;\n",
              "    display: none;\n",
              "    fill: var(--fill-color);\n",
              "    height: 32px;\n",
              "    padding: 0;\n",
              "    width: 32px;\n",
              "  }\n",
              "\n",
              "  .colab-df-quickchart:hover {\n",
              "    background-color: var(--hover-bg-color);\n",
              "    box-shadow: 0 1px 2px rgba(60, 64, 67, 0.3), 0 1px 3px 1px rgba(60, 64, 67, 0.15);\n",
              "    fill: var(--button-hover-fill-color);\n",
              "  }\n",
              "\n",
              "  .colab-df-quickchart-complete:disabled,\n",
              "  .colab-df-quickchart-complete:disabled:hover {\n",
              "    background-color: var(--disabled-bg-color);\n",
              "    fill: var(--disabled-fill-color);\n",
              "    box-shadow: none;\n",
              "  }\n",
              "\n",
              "  .colab-df-spinner {\n",
              "    border: 2px solid var(--fill-color);\n",
              "    border-color: transparent;\n",
              "    border-bottom-color: var(--fill-color);\n",
              "    animation:\n",
              "      spin 1s steps(1) infinite;\n",
              "  }\n",
              "\n",
              "  @keyframes spin {\n",
              "    0% {\n",
              "      border-color: transparent;\n",
              "      border-bottom-color: var(--fill-color);\n",
              "      border-left-color: var(--fill-color);\n",
              "    }\n",
              "    20% {\n",
              "      border-color: transparent;\n",
              "      border-left-color: var(--fill-color);\n",
              "      border-top-color: var(--fill-color);\n",
              "    }\n",
              "    30% {\n",
              "      border-color: transparent;\n",
              "      border-left-color: var(--fill-color);\n",
              "      border-top-color: var(--fill-color);\n",
              "      border-right-color: var(--fill-color);\n",
              "    }\n",
              "    40% {\n",
              "      border-color: transparent;\n",
              "      border-right-color: var(--fill-color);\n",
              "      border-top-color: var(--fill-color);\n",
              "    }\n",
              "    60% {\n",
              "      border-color: transparent;\n",
              "      border-right-color: var(--fill-color);\n",
              "    }\n",
              "    80% {\n",
              "      border-color: transparent;\n",
              "      border-right-color: var(--fill-color);\n",
              "      border-bottom-color: var(--fill-color);\n",
              "    }\n",
              "    90% {\n",
              "      border-color: transparent;\n",
              "      border-bottom-color: var(--fill-color);\n",
              "    }\n",
              "  }\n",
              "</style>\n",
              "\n",
              "  <script>\n",
              "    async function quickchart(key) {\n",
              "      const quickchartButtonEl =\n",
              "        document.querySelector('#' + key + ' button');\n",
              "      quickchartButtonEl.disabled = true;  // To prevent multiple clicks.\n",
              "      quickchartButtonEl.classList.add('colab-df-spinner');\n",
              "      try {\n",
              "        const charts = await google.colab.kernel.invokeFunction(\n",
              "            'suggestCharts', [key], {});\n",
              "      } catch (error) {\n",
              "        console.error('Error during call to suggestCharts:', error);\n",
              "      }\n",
              "      quickchartButtonEl.classList.remove('colab-df-spinner');\n",
              "      quickchartButtonEl.classList.add('colab-df-quickchart-complete');\n",
              "    }\n",
              "    (() => {\n",
              "      let quickchartButtonEl =\n",
              "        document.querySelector('#df-31398800-a052-4e5f-8af0-058d4f962278 button');\n",
              "      quickchartButtonEl.style.display =\n",
              "        google.colab.kernel.accessAllowed ? 'block' : 'none';\n",
              "    })();\n",
              "  </script>\n",
              "</div>\n",
              "\n",
              "    </div>\n",
              "  </div>\n"
            ],
            "application/vnd.google.colaboratory.intrinsic+json": {
              "type": "dataframe",
              "variable_name": "df",
              "summary": "{\n  \"name\": \"df\",\n  \"rows\": 6707,\n  \"fields\": [\n    {\n      \"column\": \"isbn13\",\n      \"properties\": {\n        \"dtype\": \"number\",\n        \"std\": 599366245,\n        \"min\": 9780002005883,\n        \"max\": 9789042003408,\n        \"num_unique_values\": 6707,\n        \"samples\": [\n          9780192834423,\n          9781401204259,\n          9780060753634\n        ],\n        \"semantic_type\": \"\",\n        \"description\": \"\"\n      }\n    },\n    {\n      \"column\": \"isbn10\",\n      \"properties\": {\n        \"dtype\": \"string\",\n        \"num_unique_values\": 6707,\n        \"samples\": [\n          \"0192834428\",\n          \"1401204252\",\n          \"0060753633\"\n        ],\n        \"semantic_type\": \"\",\n        \"description\": \"\"\n      }\n    },\n    {\n      \"column\": \"title\",\n      \"properties\": {\n        \"dtype\": \"string\",\n        \"num_unique_values\": 6306,\n        \"samples\": [\n          \"Year's Happy Ending\",\n          \"The Odyssey of Homer\",\n          \"Chemistry and Other Stories\"\n        ],\n        \"semantic_type\": \"\",\n        \"description\": \"\"\n      }\n    },\n    {\n      \"column\": \"subtitle\",\n      \"properties\": {\n        \"dtype\": \"category\",\n        \"num_unique_values\": 1980,\n        \"samples\": [\n          \"How the Athenians And Spartans Fought the Peloponnesian War\",\n          \"Or, I Know Why the Winged Whale Sings\",\n          \"The Marketing Metrics to Pump Up Cash Flow\"\n        ],\n        \"semantic_type\": \"\",\n        \"description\": \"\"\n      }\n    },\n    {\n      \"column\": \"authors\",\n      \"properties\": {\n        \"dtype\": \"string\",\n        \"num_unique_values\": 3746,\n        \"samples\": [\n          \"Annie Proulx;Lew Nichols\",\n          \"Jimmy Carter\",\n          \"Italo Calvino\"\n        ],\n        \"semantic_type\": \"\",\n        \"description\": \"\"\n      }\n    },\n    {\n      \"column\": \"categories\",\n      \"properties\": {\n        \"dtype\": \"category\",\n        \"num_unique_values\": 567,\n        \"samples\": [\n          \"Mars (Planet)\",\n          \"Assassins\",\n          \"Bibles\"\n        ],\n        \"semantic_type\": \"\",\n        \"description\": \"\"\n      }\n    },\n    {\n      \"column\": \"thumbnail\",\n      \"properties\": {\n        \"dtype\": \"string\",\n        \"num_unique_values\": 6433,\n        \"samples\": [\n          \"http://books.google.com/books/content?id=mtBkcldvD3cC&printsec=frontcover&img=1&zoom=1&source=gbs_api\",\n          \"http://books.google.com/books/content?id=dPEU-Zc29J0C&printsec=frontcover&img=1&zoom=1&edge=curl&source=gbs_api\",\n          \"http://books.google.com/books/content?id=ApTW2DLrs1YC&printsec=frontcover&img=1&zoom=1&source=gbs_api\"\n        ],\n        \"semantic_type\": \"\",\n        \"description\": \"\"\n      }\n    },\n    {\n      \"column\": \"description\",\n      \"properties\": {\n        \"dtype\": \"string\",\n        \"num_unique_values\": 6437,\n        \"samples\": [\n          \"The creator of \\\"Calvin and Hobbes\\\" discusses the art of cartooning, explains how he creates his popular comic strip, and presents his favorite moments from the series' ten years\",\n          \"Here, for the first time in one volume, is the complete collection of fifty stories about Hercule Poirot.\",\n          \"A woman's reflections on life, its stages, and its states, comparing them with the natural treasures of life in the sea\"\n        ],\n        \"semantic_type\": \"\",\n        \"description\": \"\"\n      }\n    },\n    {\n      \"column\": \"published_year\",\n      \"properties\": {\n        \"dtype\": \"number\",\n        \"std\": 10.23963283536889,\n        \"min\": 1876.0,\n        \"max\": 2019.0,\n        \"num_unique_values\": 92,\n        \"samples\": [\n          1980.0,\n          1966.0,\n          1975.0\n        ],\n        \"semantic_type\": \"\",\n        \"description\": \"\"\n      }\n    },\n    {\n      \"column\": \"average_rating\",\n      \"properties\": {\n        \"dtype\": \"number\",\n        \"std\": 0.3301015594628179,\n        \"min\": 0.0,\n        \"max\": 5.0,\n        \"num_unique_values\": 200,\n        \"samples\": [\n          4.5,\n          4.23,\n          3.56\n        ],\n        \"semantic_type\": \"\",\n        \"description\": \"\"\n      }\n    },\n    {\n      \"column\": \"num_pages\",\n      \"properties\": {\n        \"dtype\": \"number\",\n        \"std\": 238.62468231617504,\n        \"min\": 0.0,\n        \"max\": 3342.0,\n        \"num_unique_values\": 902,\n        \"samples\": [\n          454.0,\n          212.0,\n          465.0\n        ],\n        \"semantic_type\": \"\",\n        \"description\": \"\"\n      }\n    },\n    {\n      \"column\": \"ratings_count\",\n      \"properties\": {\n        \"dtype\": \"number\",\n        \"std\": 138197.698332187,\n        \"min\": 0.0,\n        \"max\": 5629932.0,\n        \"num_unique_values\": 3855,\n        \"samples\": [\n          463.0,\n          2063.0,\n          18934.0\n        ],\n        \"semantic_type\": \"\",\n        \"description\": \"\"\n      }\n    }\n  ]\n}"
            }
          },
          "metadata": {},
          "execution_count": 11
        }
      ]
    },
    {
      "cell_type": "markdown",
      "source": [
        "Hacemos una copia del dataframe como se encuentra actualmente:"
      ],
      "metadata": {
        "id": "02KN4CmB6Kdd"
      }
    },
    {
      "cell_type": "code",
      "source": [
        "df = df.copy()"
      ],
      "metadata": {
        "id": "37Nmt2rF6Roi"
      },
      "execution_count": 12,
      "outputs": []
    },
    {
      "cell_type": "markdown",
      "source": [
        "4. Utilizamos describe para obtener información estadística de las variables numéricas"
      ],
      "metadata": {
        "id": "IKVrDjS6uA5y"
      }
    },
    {
      "cell_type": "code",
      "source": [
        "df.describe()"
      ],
      "metadata": {
        "id": "9V2cT0tqDxBn",
        "outputId": "5ee2bd8e-71a8-4713-95de-ca92f6ae95ec",
        "colab": {
          "base_uri": "https://localhost:8080/",
          "height": 300
        }
      },
      "execution_count": 13,
      "outputs": [
        {
          "output_type": "execute_result",
          "data": {
            "text/plain": [
              "             isbn13  published_year  average_rating    num_pages  \\\n",
              "count  6.707000e+03     6707.000000     6707.000000  6707.000000   \n",
              "mean   9.780674e+12     1998.752646        3.932412   347.042642   \n",
              "std    5.993662e+08       10.239633        0.330102   238.624682   \n",
              "min    9.780002e+12     1876.000000        0.000000     0.000000   \n",
              "25%    9.780330e+12     1997.000000        3.770000   208.000000   \n",
              "50%    9.780553e+12     2002.000000        3.950000   304.000000   \n",
              "75%    9.780809e+12     2005.000000        4.130000   417.000000   \n",
              "max    9.789042e+12     2019.000000        5.000000  3342.000000   \n",
              "\n",
              "       ratings_count  \n",
              "count   6.707000e+03  \n",
              "mean    2.116976e+04  \n",
              "std     1.381977e+05  \n",
              "min     0.000000e+00  \n",
              "25%     1.650000e+02  \n",
              "50%     1.034500e+03  \n",
              "75%     6.014500e+03  \n",
              "max     5.629932e+06  "
            ],
            "text/html": [
              "\n",
              "  <div id=\"df-561ce843-ff2d-4b4d-b99d-7d280397de7d\" class=\"colab-df-container\">\n",
              "    <div>\n",
              "<style scoped>\n",
              "    .dataframe tbody tr th:only-of-type {\n",
              "        vertical-align: middle;\n",
              "    }\n",
              "\n",
              "    .dataframe tbody tr th {\n",
              "        vertical-align: top;\n",
              "    }\n",
              "\n",
              "    .dataframe thead th {\n",
              "        text-align: right;\n",
              "    }\n",
              "</style>\n",
              "<table border=\"1\" class=\"dataframe\">\n",
              "  <thead>\n",
              "    <tr style=\"text-align: right;\">\n",
              "      <th></th>\n",
              "      <th>isbn13</th>\n",
              "      <th>published_year</th>\n",
              "      <th>average_rating</th>\n",
              "      <th>num_pages</th>\n",
              "      <th>ratings_count</th>\n",
              "    </tr>\n",
              "  </thead>\n",
              "  <tbody>\n",
              "    <tr>\n",
              "      <th>count</th>\n",
              "      <td>6.707000e+03</td>\n",
              "      <td>6707.000000</td>\n",
              "      <td>6707.000000</td>\n",
              "      <td>6707.000000</td>\n",
              "      <td>6.707000e+03</td>\n",
              "    </tr>\n",
              "    <tr>\n",
              "      <th>mean</th>\n",
              "      <td>9.780674e+12</td>\n",
              "      <td>1998.752646</td>\n",
              "      <td>3.932412</td>\n",
              "      <td>347.042642</td>\n",
              "      <td>2.116976e+04</td>\n",
              "    </tr>\n",
              "    <tr>\n",
              "      <th>std</th>\n",
              "      <td>5.993662e+08</td>\n",
              "      <td>10.239633</td>\n",
              "      <td>0.330102</td>\n",
              "      <td>238.624682</td>\n",
              "      <td>1.381977e+05</td>\n",
              "    </tr>\n",
              "    <tr>\n",
              "      <th>min</th>\n",
              "      <td>9.780002e+12</td>\n",
              "      <td>1876.000000</td>\n",
              "      <td>0.000000</td>\n",
              "      <td>0.000000</td>\n",
              "      <td>0.000000e+00</td>\n",
              "    </tr>\n",
              "    <tr>\n",
              "      <th>25%</th>\n",
              "      <td>9.780330e+12</td>\n",
              "      <td>1997.000000</td>\n",
              "      <td>3.770000</td>\n",
              "      <td>208.000000</td>\n",
              "      <td>1.650000e+02</td>\n",
              "    </tr>\n",
              "    <tr>\n",
              "      <th>50%</th>\n",
              "      <td>9.780553e+12</td>\n",
              "      <td>2002.000000</td>\n",
              "      <td>3.950000</td>\n",
              "      <td>304.000000</td>\n",
              "      <td>1.034500e+03</td>\n",
              "    </tr>\n",
              "    <tr>\n",
              "      <th>75%</th>\n",
              "      <td>9.780809e+12</td>\n",
              "      <td>2005.000000</td>\n",
              "      <td>4.130000</td>\n",
              "      <td>417.000000</td>\n",
              "      <td>6.014500e+03</td>\n",
              "    </tr>\n",
              "    <tr>\n",
              "      <th>max</th>\n",
              "      <td>9.789042e+12</td>\n",
              "      <td>2019.000000</td>\n",
              "      <td>5.000000</td>\n",
              "      <td>3342.000000</td>\n",
              "      <td>5.629932e+06</td>\n",
              "    </tr>\n",
              "  </tbody>\n",
              "</table>\n",
              "</div>\n",
              "    <div class=\"colab-df-buttons\">\n",
              "\n",
              "  <div class=\"colab-df-container\">\n",
              "    <button class=\"colab-df-convert\" onclick=\"convertToInteractive('df-561ce843-ff2d-4b4d-b99d-7d280397de7d')\"\n",
              "            title=\"Convert this dataframe to an interactive table.\"\n",
              "            style=\"display:none;\">\n",
              "\n",
              "  <svg xmlns=\"http://www.w3.org/2000/svg\" height=\"24px\" viewBox=\"0 -960 960 960\">\n",
              "    <path d=\"M120-120v-720h720v720H120Zm60-500h600v-160H180v160Zm220 220h160v-160H400v160Zm0 220h160v-160H400v160ZM180-400h160v-160H180v160Zm440 0h160v-160H620v160ZM180-180h160v-160H180v160Zm440 0h160v-160H620v160Z\"/>\n",
              "  </svg>\n",
              "    </button>\n",
              "\n",
              "  <style>\n",
              "    .colab-df-container {\n",
              "      display:flex;\n",
              "      gap: 12px;\n",
              "    }\n",
              "\n",
              "    .colab-df-convert {\n",
              "      background-color: #E8F0FE;\n",
              "      border: none;\n",
              "      border-radius: 50%;\n",
              "      cursor: pointer;\n",
              "      display: none;\n",
              "      fill: #1967D2;\n",
              "      height: 32px;\n",
              "      padding: 0 0 0 0;\n",
              "      width: 32px;\n",
              "    }\n",
              "\n",
              "    .colab-df-convert:hover {\n",
              "      background-color: #E2EBFA;\n",
              "      box-shadow: 0px 1px 2px rgba(60, 64, 67, 0.3), 0px 1px 3px 1px rgba(60, 64, 67, 0.15);\n",
              "      fill: #174EA6;\n",
              "    }\n",
              "\n",
              "    .colab-df-buttons div {\n",
              "      margin-bottom: 4px;\n",
              "    }\n",
              "\n",
              "    [theme=dark] .colab-df-convert {\n",
              "      background-color: #3B4455;\n",
              "      fill: #D2E3FC;\n",
              "    }\n",
              "\n",
              "    [theme=dark] .colab-df-convert:hover {\n",
              "      background-color: #434B5C;\n",
              "      box-shadow: 0px 1px 3px 1px rgba(0, 0, 0, 0.15);\n",
              "      filter: drop-shadow(0px 1px 2px rgba(0, 0, 0, 0.3));\n",
              "      fill: #FFFFFF;\n",
              "    }\n",
              "  </style>\n",
              "\n",
              "    <script>\n",
              "      const buttonEl =\n",
              "        document.querySelector('#df-561ce843-ff2d-4b4d-b99d-7d280397de7d button.colab-df-convert');\n",
              "      buttonEl.style.display =\n",
              "        google.colab.kernel.accessAllowed ? 'block' : 'none';\n",
              "\n",
              "      async function convertToInteractive(key) {\n",
              "        const element = document.querySelector('#df-561ce843-ff2d-4b4d-b99d-7d280397de7d');\n",
              "        const dataTable =\n",
              "          await google.colab.kernel.invokeFunction('convertToInteractive',\n",
              "                                                    [key], {});\n",
              "        if (!dataTable) return;\n",
              "\n",
              "        const docLinkHtml = 'Like what you see? Visit the ' +\n",
              "          '<a target=\"_blank\" href=https://colab.research.google.com/notebooks/data_table.ipynb>data table notebook</a>'\n",
              "          + ' to learn more about interactive tables.';\n",
              "        element.innerHTML = '';\n",
              "        dataTable['output_type'] = 'display_data';\n",
              "        await google.colab.output.renderOutput(dataTable, element);\n",
              "        const docLink = document.createElement('div');\n",
              "        docLink.innerHTML = docLinkHtml;\n",
              "        element.appendChild(docLink);\n",
              "      }\n",
              "    </script>\n",
              "  </div>\n",
              "\n",
              "\n",
              "<div id=\"df-001baf97-08ea-4102-add9-0bb1f64c3847\">\n",
              "  <button class=\"colab-df-quickchart\" onclick=\"quickchart('df-001baf97-08ea-4102-add9-0bb1f64c3847')\"\n",
              "            title=\"Suggest charts\"\n",
              "            style=\"display:none;\">\n",
              "\n",
              "<svg xmlns=\"http://www.w3.org/2000/svg\" height=\"24px\"viewBox=\"0 0 24 24\"\n",
              "     width=\"24px\">\n",
              "    <g>\n",
              "        <path d=\"M19 3H5c-1.1 0-2 .9-2 2v14c0 1.1.9 2 2 2h14c1.1 0 2-.9 2-2V5c0-1.1-.9-2-2-2zM9 17H7v-7h2v7zm4 0h-2V7h2v10zm4 0h-2v-4h2v4z\"/>\n",
              "    </g>\n",
              "</svg>\n",
              "  </button>\n",
              "\n",
              "<style>\n",
              "  .colab-df-quickchart {\n",
              "      --bg-color: #E8F0FE;\n",
              "      --fill-color: #1967D2;\n",
              "      --hover-bg-color: #E2EBFA;\n",
              "      --hover-fill-color: #174EA6;\n",
              "      --disabled-fill-color: #AAA;\n",
              "      --disabled-bg-color: #DDD;\n",
              "  }\n",
              "\n",
              "  [theme=dark] .colab-df-quickchart {\n",
              "      --bg-color: #3B4455;\n",
              "      --fill-color: #D2E3FC;\n",
              "      --hover-bg-color: #434B5C;\n",
              "      --hover-fill-color: #FFFFFF;\n",
              "      --disabled-bg-color: #3B4455;\n",
              "      --disabled-fill-color: #666;\n",
              "  }\n",
              "\n",
              "  .colab-df-quickchart {\n",
              "    background-color: var(--bg-color);\n",
              "    border: none;\n",
              "    border-radius: 50%;\n",
              "    cursor: pointer;\n",
              "    display: none;\n",
              "    fill: var(--fill-color);\n",
              "    height: 32px;\n",
              "    padding: 0;\n",
              "    width: 32px;\n",
              "  }\n",
              "\n",
              "  .colab-df-quickchart:hover {\n",
              "    background-color: var(--hover-bg-color);\n",
              "    box-shadow: 0 1px 2px rgba(60, 64, 67, 0.3), 0 1px 3px 1px rgba(60, 64, 67, 0.15);\n",
              "    fill: var(--button-hover-fill-color);\n",
              "  }\n",
              "\n",
              "  .colab-df-quickchart-complete:disabled,\n",
              "  .colab-df-quickchart-complete:disabled:hover {\n",
              "    background-color: var(--disabled-bg-color);\n",
              "    fill: var(--disabled-fill-color);\n",
              "    box-shadow: none;\n",
              "  }\n",
              "\n",
              "  .colab-df-spinner {\n",
              "    border: 2px solid var(--fill-color);\n",
              "    border-color: transparent;\n",
              "    border-bottom-color: var(--fill-color);\n",
              "    animation:\n",
              "      spin 1s steps(1) infinite;\n",
              "  }\n",
              "\n",
              "  @keyframes spin {\n",
              "    0% {\n",
              "      border-color: transparent;\n",
              "      border-bottom-color: var(--fill-color);\n",
              "      border-left-color: var(--fill-color);\n",
              "    }\n",
              "    20% {\n",
              "      border-color: transparent;\n",
              "      border-left-color: var(--fill-color);\n",
              "      border-top-color: var(--fill-color);\n",
              "    }\n",
              "    30% {\n",
              "      border-color: transparent;\n",
              "      border-left-color: var(--fill-color);\n",
              "      border-top-color: var(--fill-color);\n",
              "      border-right-color: var(--fill-color);\n",
              "    }\n",
              "    40% {\n",
              "      border-color: transparent;\n",
              "      border-right-color: var(--fill-color);\n",
              "      border-top-color: var(--fill-color);\n",
              "    }\n",
              "    60% {\n",
              "      border-color: transparent;\n",
              "      border-right-color: var(--fill-color);\n",
              "    }\n",
              "    80% {\n",
              "      border-color: transparent;\n",
              "      border-right-color: var(--fill-color);\n",
              "      border-bottom-color: var(--fill-color);\n",
              "    }\n",
              "    90% {\n",
              "      border-color: transparent;\n",
              "      border-bottom-color: var(--fill-color);\n",
              "    }\n",
              "  }\n",
              "</style>\n",
              "\n",
              "  <script>\n",
              "    async function quickchart(key) {\n",
              "      const quickchartButtonEl =\n",
              "        document.querySelector('#' + key + ' button');\n",
              "      quickchartButtonEl.disabled = true;  // To prevent multiple clicks.\n",
              "      quickchartButtonEl.classList.add('colab-df-spinner');\n",
              "      try {\n",
              "        const charts = await google.colab.kernel.invokeFunction(\n",
              "            'suggestCharts', [key], {});\n",
              "      } catch (error) {\n",
              "        console.error('Error during call to suggestCharts:', error);\n",
              "      }\n",
              "      quickchartButtonEl.classList.remove('colab-df-spinner');\n",
              "      quickchartButtonEl.classList.add('colab-df-quickchart-complete');\n",
              "    }\n",
              "    (() => {\n",
              "      let quickchartButtonEl =\n",
              "        document.querySelector('#df-001baf97-08ea-4102-add9-0bb1f64c3847 button');\n",
              "      quickchartButtonEl.style.display =\n",
              "        google.colab.kernel.accessAllowed ? 'block' : 'none';\n",
              "    })();\n",
              "  </script>\n",
              "</div>\n",
              "\n",
              "    </div>\n",
              "  </div>\n"
            ],
            "application/vnd.google.colaboratory.intrinsic+json": {
              "type": "dataframe",
              "summary": "{\n  \"name\": \"df\",\n  \"rows\": 8,\n  \"fields\": [\n    {\n      \"column\": \"isbn13\",\n      \"properties\": {\n        \"dtype\": \"number\",\n        \"std\": 4528002852282.786,\n        \"min\": 6707.0,\n        \"max\": 9789042003408.0,\n        \"num_unique_values\": 8,\n        \"samples\": [\n          9780673892044.744,\n          9780552998819.0,\n          6707.0\n        ],\n        \"semantic_type\": \"\",\n        \"description\": \"\"\n      }\n    },\n    {\n      \"column\": \"published_year\",\n      \"properties\": {\n        \"dtype\": \"number\",\n        \"std\": 1900.225505302475,\n        \"min\": 10.23963283536889,\n        \"max\": 6707.0,\n        \"num_unique_values\": 8,\n        \"samples\": [\n          1998.752646488743,\n          2002.0,\n          6707.0\n        ],\n        \"semantic_type\": \"\",\n        \"description\": \"\"\n      }\n    },\n    {\n      \"column\": \"average_rating\",\n      \"properties\": {\n        \"dtype\": \"number\",\n        \"std\": 2370.2169640009083,\n        \"min\": 0.0,\n        \"max\": 6707.0,\n        \"num_unique_values\": 8,\n        \"samples\": [\n          3.932412404950052,\n          3.95,\n          6707.0\n        ],\n        \"semantic_type\": \"\",\n        \"description\": \"\"\n      }\n    },\n    {\n      \"column\": \"num_pages\",\n      \"properties\": {\n        \"dtype\": \"number\",\n        \"std\": 2388.2139795824087,\n        \"min\": 0.0,\n        \"max\": 6707.0,\n        \"num_unique_values\": 8,\n        \"samples\": [\n          347.0426420158044,\n          304.0,\n          6707.0\n        ],\n        \"semantic_type\": \"\",\n        \"description\": \"\"\n      }\n    },\n    {\n      \"column\": \"ratings_count\",\n      \"properties\": {\n        \"dtype\": \"number\",\n        \"std\": 1982281.9600862178,\n        \"min\": 0.0,\n        \"max\": 5629932.0,\n        \"num_unique_values\": 8,\n        \"samples\": [\n          21169.757641270313,\n          1034.5,\n          6707.0\n        ],\n        \"semantic_type\": \"\",\n        \"description\": \"\"\n      }\n    }\n  ]\n}"
            }
          },
          "metadata": {},
          "execution_count": 13
        }
      ]
    },
    {
      "cell_type": "code",
      "source": [],
      "metadata": {
        "id": "HRLTy2FPKroU"
      },
      "execution_count": 13,
      "outputs": []
    },
    {
      "cell_type": "markdown",
      "source": [
        "Hemos encontrado algunos hallazgos clave, como que el libro más antiguo es del año 1876 y el más reciente del 2019, la media de publicaciones es dek 1998 , eso nos quiere decir que la mayoría son relativamente modernos, también vemos el rating, las calificaciones, el máximo es de 5 y el mínimo de 0(a lo mejor porque no tiene reseñas), también vemos que hay algunos libros muy largos , hasta de 3342 páginas y posibles errores en el mínimo.\n"
      ],
      "metadata": {
        "id": "9vvjDsd9um0x"
      }
    },
    {
      "cell_type": "markdown",
      "source": [
        "\n",
        "Lo primero vamos a convertir año de publicación y número de páginas a enteros ya que no tienen decimales:"
      ],
      "metadata": {
        "id": "ldjDrgbkLOtU"
      }
    },
    {
      "cell_type": "code",
      "source": [
        "df['published_year'] = df['published_year'].astype(int)\n",
        "df['num_pages'] = df['num_pages'].astype(int)"
      ],
      "metadata": {
        "id": "s7A4RUTXLWxU"
      },
      "execution_count": 14,
      "outputs": []
    },
    {
      "cell_type": "markdown",
      "source": [
        "Ahora vamos a comprobar los libros muy antiguos, ya que pueden ser un error."
      ],
      "metadata": {
        "id": "rZLcUFYQGP-K"
      }
    },
    {
      "cell_type": "code",
      "source": [
        "old_books = df[(df['published_year'] >= 1800) & (df['published_year'] <= 1900)]\n",
        "print(old_books[['title', 'authors', 'published_year', 'average_rating', 'num_pages']])"
      ],
      "metadata": {
        "colab": {
          "base_uri": "https://localhost:8080/"
        },
        "id": "KhHgup0eGWfG",
        "outputId": "254ca0fc-7b44-4e33-ce84-0f2b088886cf"
      },
      "execution_count": 15,
      "outputs": [
        {
          "output_type": "stream",
          "name": "stdout",
          "text": [
            "                                      title        authors  published_year  \\\n",
            "1004  The Letters of John and Abigail Adams  Abigail Adams            1876   \n",
            "2151                         Daniel Deronda   George Eliot            1876   \n",
            "\n",
            "      average_rating  num_pages  \n",
            "1004            4.17        512  \n",
            "2151            3.83        796  \n"
          ]
        }
      ]
    },
    {
      "cell_type": "code",
      "source": [
        "print(f\"Número de libros publicados entre 1800 y 1900: {len(old_books)}\")"
      ],
      "metadata": {
        "colab": {
          "base_uri": "https://localhost:8080/"
        },
        "id": "IM2d4-wpL76e",
        "outputId": "9fc0d219-5af2-4431-9a48-b8a34ac4a7ae"
      },
      "execution_count": 16,
      "outputs": [
        {
          "output_type": "stream",
          "name": "stdout",
          "text": [
            "Número de libros publicados entre 1800 y 1900: 2\n"
          ]
        }
      ]
    },
    {
      "cell_type": "markdown",
      "source": [
        "Vamos a dejar los libros antiguos en el análisis, ya que podría servir para identificar tendencias y cambios a lo largo del tiempo."
      ],
      "metadata": {
        "id": "-Mk-pTmGMB0X"
      }
    },
    {
      "cell_type": "markdown",
      "source": [
        "## Manejo de outliers"
      ],
      "metadata": {
        "id": "qDicEeVuN-Ih"
      }
    },
    {
      "cell_type": "markdown",
      "source": [
        "Identificación de outliers, utilizamos boxplots para visualizar la distribución de 'num_pages' y 'ratings_count' e identificar posibles outliers, es decir, valores atípicos, por ejemplo pueden haber libros con número de páginas extremadamente bajas o altas y eso puede distorsionar mi análisis.\n",
        "Los boxplots son una herramienta que nos muestra la distribución del conjunto de los datos, si los puntos se encuentran más allá del bigote se consideran outliers."
      ],
      "metadata": {
        "id": "VmoJWj7LOKYc"
      }
    },
    {
      "cell_type": "code",
      "source": [
        "import seaborn as sns\n",
        "import matplotlib.pyplot as plt\n",
        "from scipy.stats import mstats\n",
        "\n",
        "plt.figure(figsize=(15, 5))\n",
        "plt.subplot(1, 2, 1)\n",
        "sns.boxplot(y=df['num_pages'])\n",
        "plt.title('Distribución de num_pages')"
      ],
      "metadata": {
        "colab": {
          "base_uri": "https://localhost:8080/",
          "height": 466
        },
        "id": "Vtkmt1LZOUWO",
        "outputId": "084409fa-73fe-4da6-bd1b-a0faed9b5173"
      },
      "execution_count": 17,
      "outputs": [
        {
          "output_type": "execute_result",
          "data": {
            "text/plain": [
              "Text(0.5, 1.0, 'Distribución de num_pages')"
            ]
          },
          "metadata": {},
          "execution_count": 17
        },
        {
          "output_type": "display_data",
          "data": {
            "text/plain": [
              "<Figure size 1500x500 with 1 Axes>"
            ],
            "image/png": "[encoded data removed]"
          },
          "metadata": {}
        }
      ]
    },
    {
      "cell_type": "code",
      "source": [
        "plt.subplot(1, 2, 2)\n",
        "sns.boxplot(y=df['ratings_count'])\n",
        "plt.title('Boxplot de ratings_count')\n",
        "plt.show()"
      ],
      "metadata": {
        "colab": {
          "base_uri": "https://localhost:8080/",
          "height": 448
        },
        "id": "PATJNwaLO9PO",
        "outputId": "09e125bc-9061-484d-b4f3-2a4a2b815d56"
      },
      "execution_count": 18,
      "outputs": [
        {
          "output_type": "display_data",
          "data": {
            "text/plain": [
              "<Figure size 640x480 with 1 Axes>"
            ],
            "image/png": "[encoded data removed]"
          },
          "metadata": {}
        }
      ]
    },
    {
      "cell_type": "markdown",
      "source": [
        "# Tratamiento de outliers\n",
        "Aplicamos winsorizing para reducir la influencia de los outliers en num_pages y ratings_count.\n",
        "Winzorizing reemplaza los valores extremos con valores menos extremos, no los elimina, solo los acerca al resto de datos."
      ],
      "metadata": {
        "id": "6f4P9bu_PEAp"
      }
    },
    {
      "cell_type": "code",
      "source": [
        "df['num_pages'] = mstats.winsorize(df['num_pages'], limits=[0.05, 0.05])\n",
        "df['ratings_count'] = mstats.winsorize(df['ratings_count'], limits=[0.05, 0.05])"
      ],
      "metadata": {
        "id": "2Up2UQymPbb2"
      },
      "execution_count": 19,
      "outputs": []
    },
    {
      "cell_type": "markdown",
      "source": [
        "Ahora volvemos a visualizarlos:"
      ],
      "metadata": {
        "id": "3OagjZTsPkLl"
      }
    },
    {
      "cell_type": "code",
      "source": [
        "plt.figure(figsize=(15, 5))\n",
        "plt.subplot(1, 2, 1)\n",
        "sns.boxplot(y=df['num_pages'])\n",
        "plt.title('Boxplot de num_pages después de winsorizing')\n",
        "\n",
        "plt.subplot(1, 2, 2)\n",
        "sns.boxplot(y=df['ratings_count'])\n",
        "plt.title('Boxplot de ratings_count después de winsorizing')\n",
        "plt.show()"
      ],
      "metadata": {
        "colab": {
          "base_uri": "https://localhost:8080/",
          "height": 449
        },
        "id": "FMzsPRU5PnXF",
        "outputId": "d3314011-aa65-4f2b-d5c5-b169570383d1"
      },
      "execution_count": 20,
      "outputs": [
        {
          "output_type": "display_data",
          "data": {
            "text/plain": [
              "<Figure size 1500x500 with 2 Axes>"
            ],
            "image/png": "[encoded data removed]"
          },
          "metadata": {}
        }
      ]
    },
    {
      "cell_type": "markdown",
      "source": [],
      "metadata": {
        "id": "xXFgCdCNODvd"
      }
    },
    {
      "cell_type": "markdown",
      "source": [
        "## Normalización de datos\n",
        "Los datos tienen algunas incongruencias que podrían afectar a nuestro análisis, por lo que es necesaria la normalización de los datos."
      ],
      "metadata": {
        "id": "AY6lX8Pbvz1s"
      }
    },
    {
      "cell_type": "markdown",
      "source": [
        "1. Primero ponemos las siguientes columnas en un rango del 0 al 1 para facilitar comparaciones y visualizaciones, para eso usamos MinMaxScaler , para transformar los datos escalanado cada valor individualmentes de forma que queden dentro del rango, luego la asignamos a lavariables scaler para realizar la transformación,"
      ],
      "metadata": {
        "id": "ce_9rQNAxujk"
      }
    },
    {
      "cell_type": "code",
      "source": [
        "from sklearn.preprocessing import MinMaxScaler\n",
        "columns_to_normalize = [\"average_rating\", \"num_pages\", \"ratings_count\"]\n",
        "scaler = MinMaxScaler()\n",
        "df[columns_to_normalize] = scaler.fit_transform(df[columns_to_normalize])  # calcula el valor mínimo y máximo de cada columna y las transforma cada valor con la fórmula X_scaled = (X - X_min) / (X_max - X_min)\n",
        "\n",
        "df.head()"
      ],
      "metadata": {
        "colab": {
          "base_uri": "https://localhost:8080/",
          "height": 590
        },
        "id": "K4geXiIRwS3M",
        "outputId": "f93c3e10-ef2b-4bb5-eca9-de195dd1c2cd"
      },
      "execution_count": 21,
      "outputs": [
        {
          "output_type": "execute_result",
          "data": {
            "text/plain": [
              "          isbn13      isbn10           title     subtitle  \\\n",
              "0  9780002005883  0002005883          Gilead  no subtitle   \n",
              "1  9780002261982  0002261987    Spider's Web      A Novel   \n",
              "2  9780006163831  0006163831    The One Tree  no subtitle   \n",
              "3  9780006178736  0006178731  Rage of angels  no subtitle   \n",
              "4  9780006280897  0006280897  The Four Loves  no subtitle   \n",
              "\n",
              "                           authors                     categories  \\\n",
              "0               Marilynne Robinson                        Fiction   \n",
              "1  Charles Osborne;Agatha Christie  Detective and mystery stories   \n",
              "2             Stephen R. Donaldson               American fiction   \n",
              "3                   Sidney Sheldon                        Fiction   \n",
              "4              Clive Staples Lewis                 Christian life   \n",
              "\n",
              "                                           thumbnail  \\\n",
              "0  http://books.google.com/books/content?id=KQZCP...   \n",
              "1  http://books.google.com/books/content?id=gA5GP...   \n",
              "2  http://books.google.com/books/content?id=OmQaw...   \n",
              "3  http://books.google.com/books/content?id=FKo2T...   \n",
              "4  http://books.google.com/books/content?id=XhQ5X...   \n",
              "\n",
              "                                         description  published_year  \\\n",
              "0  A NOVEL THAT READERS and critics have been eag...            2004   \n",
              "1  A new 'Christie for Christmas' -- a full-lengt...            2000   \n",
              "2  Volume Two of Stephen Donaldson's acclaimed se...            1982   \n",
              "3  A memorable, mesmerizing heroine Jennifer -- b...            1993   \n",
              "4  Lewis' work on the nature of love divides love...            2002   \n",
              "\n",
              "   average_rating  num_pages  ratings_count  \n",
              "0           0.770   0.246020       0.005117  \n",
              "1           0.766   0.237337       0.075541  \n",
              "2           0.794   0.581766       0.002346  \n",
              "3           0.786   0.629522       0.432838  \n",
              "4           0.830   0.134588       0.493717  "
            ],
            "text/html": [
              "\n",
              "  <div id=\"df-d91a16df-e691-4647-bc49-703a4618e1b0\" class=\"colab-df-container\">\n",
              "    <div>\n",
              "<style scoped>\n",
              "    .dataframe tbody tr th:only-of-type {\n",
              "        vertical-align: middle;\n",
              "    }\n",
              "\n",
              "    .dataframe tbody tr th {\n",
              "        vertical-align: top;\n",
              "    }\n",
              "\n",
              "    .dataframe thead th {\n",
              "        text-align: right;\n",
              "    }\n",
              "</style>\n",
              "<table border=\"1\" class=\"dataframe\">\n",
              "  <thead>\n",
              "    <tr style=\"text-align: right;\">\n",
              "      <th></th>\n",
              "      <th>isbn13</th>\n",
              "      <th>isbn10</th>\n",
              "      <th>title</th>\n",
              "      <th>subtitle</th>\n",
              "      <th>authors</th>\n",
              "      <th>categories</th>\n",
              "      <th>thumbnail</th>\n",
              "      <th>description</th>\n",
              "      <th>published_year</th>\n",
              "      <th>average_rating</th>\n",
              "      <th>num_pages</th>\n",
              "      <th>ratings_count</th>\n",
              "    </tr>\n",
              "  </thead>\n",
              "  <tbody>\n",
              "    <tr>\n",
              "      <th>0</th>\n",
              "      <td>9780002005883</td>\n",
              "      <td>0002005883</td>\n",
              "      <td>Gilead</td>\n",
              "      <td>no subtitle</td>\n",
              "      <td>Marilynne Robinson</td>\n",
              "      <td>Fiction</td>\n",
              "      <td>http://books.google.com/books/content?id=KQZCP...</td>\n",
              "      <td>A NOVEL THAT READERS and critics have been eag...</td>\n",
              "      <td>2004</td>\n",
              "      <td>0.770</td>\n",
              "      <td>0.246020</td>\n",
              "      <td>0.005117</td>\n",
              "    </tr>\n",
              "    <tr>\n",
              "      <th>1</th>\n",
              "      <td>9780002261982</td>\n",
              "      <td>0002261987</td>\n",
              "      <td>Spider's Web</td>\n",
              "      <td>A Novel</td>\n",
              "      <td>Charles Osborne;Agatha Christie</td>\n",
              "      <td>Detective and mystery stories</td>\n",
              "      <td>http://books.google.com/books/content?id=gA5GP...</td>\n",
              "      <td>A new 'Christie for Christmas' -- a full-lengt...</td>\n",
              "      <td>2000</td>\n",
              "      <td>0.766</td>\n",
              "      <td>0.237337</td>\n",
              "      <td>0.075541</td>\n",
              "    </tr>\n",
              "    <tr>\n",
              "      <th>2</th>\n",
              "      <td>9780006163831</td>\n",
              "      <td>0006163831</td>\n",
              "      <td>The One Tree</td>\n",
              "      <td>no subtitle</td>\n",
              "      <td>Stephen R. Donaldson</td>\n",
              "      <td>American fiction</td>\n",
              "      <td>http://books.google.com/books/content?id=OmQaw...</td>\n",
              "      <td>Volume Two of Stephen Donaldson's acclaimed se...</td>\n",
              "      <td>1982</td>\n",
              "      <td>0.794</td>\n",
              "      <td>0.581766</td>\n",
              "      <td>0.002346</td>\n",
              "    </tr>\n",
              "    <tr>\n",
              "      <th>3</th>\n",
              "      <td>9780006178736</td>\n",
              "      <td>0006178731</td>\n",
              "      <td>Rage of angels</td>\n",
              "      <td>no subtitle</td>\n",
              "      <td>Sidney Sheldon</td>\n",
              "      <td>Fiction</td>\n",
              "      <td>http://books.google.com/books/content?id=FKo2T...</td>\n",
              "      <td>A memorable, mesmerizing heroine Jennifer -- b...</td>\n",
              "      <td>1993</td>\n",
              "      <td>0.786</td>\n",
              "      <td>0.629522</td>\n",
              "      <td>0.432838</td>\n",
              "    </tr>\n",
              "    <tr>\n",
              "      <th>4</th>\n",
              "      <td>9780006280897</td>\n",
              "      <td>0006280897</td>\n",
              "      <td>The Four Loves</td>\n",
              "      <td>no subtitle</td>\n",
              "      <td>Clive Staples Lewis</td>\n",
              "      <td>Christian life</td>\n",
              "      <td>http://books.google.com/books/content?id=XhQ5X...</td>\n",
              "      <td>Lewis' work on the nature of love divides love...</td>\n",
              "      <td>2002</td>\n",
              "      <td>0.830</td>\n",
              "      <td>0.134588</td>\n",
              "      <td>0.493717</td>\n",
              "    </tr>\n",
              "  </tbody>\n",
              "</table>\n",
              "</div>\n",
              "    <div class=\"colab-df-buttons\">\n",
              "\n",
              "  <div class=\"colab-df-container\">\n",
              "    <button class=\"colab-df-convert\" onclick=\"convertToInteractive('df-d91a16df-e691-4647-bc49-703a4618e1b0')\"\n",
              "            title=\"Convert this dataframe to an interactive table.\"\n",
              "            style=\"display:none;\">\n",
              "\n",
              "  <svg xmlns=\"http://www.w3.org/2000/svg\" height=\"24px\" viewBox=\"0 -960 960 960\">\n",
              "    <path d=\"M120-120v-720h720v720H120Zm60-500h600v-160H180v160Zm220 220h160v-160H400v160Zm0 220h160v-160H400v160ZM180-400h160v-160H180v160Zm440 0h160v-160H620v160ZM180-180h160v-160H180v160Zm440 0h160v-160H620v160Z\"/>\n",
              "  </svg>\n",
              "    </button>\n",
              "\n",
              "  <style>\n",
              "    .colab-df-container {\n",
              "      display:flex;\n",
              "      gap: 12px;\n",
              "    }\n",
              "\n",
              "    .colab-df-convert {\n",
              "      background-color: #E8F0FE;\n",
              "      border: none;\n",
              "      border-radius: 50%;\n",
              "      cursor: pointer;\n",
              "      display: none;\n",
              "      fill: #1967D2;\n",
              "      height: 32px;\n",
              "      padding: 0 0 0 0;\n",
              "      width: 32px;\n",
              "    }\n",
              "\n",
              "    .colab-df-convert:hover {\n",
              "      background-color: #E2EBFA;\n",
              "      box-shadow: 0px 1px 2px rgba(60, 64, 67, 0.3), 0px 1px 3px 1px rgba(60, 64, 67, 0.15);\n",
              "      fill: #174EA6;\n",
              "    }\n",
              "\n",
              "    .colab-df-buttons div {\n",
              "      margin-bottom: 4px;\n",
              "    }\n",
              "\n",
              "    [theme=dark] .colab-df-convert {\n",
              "      background-color: #3B4455;\n",
              "      fill: #D2E3FC;\n",
              "    }\n",
              "\n",
              "    [theme=dark] .colab-df-convert:hover {\n",
              "      background-color: #434B5C;\n",
              "      box-shadow: 0px 1px 3px 1px rgba(0, 0, 0, 0.15);\n",
              "      filter: drop-shadow(0px 1px 2px rgba(0, 0, 0, 0.3));\n",
              "      fill: #FFFFFF;\n",
              "    }\n",
              "  </style>\n",
              "\n",
              "    <script>\n",
              "      const buttonEl =\n",
              "        document.querySelector('#df-d91a16df-e691-4647-bc49-703a4618e1b0 button.colab-df-convert');\n",
              "      buttonEl.style.display =\n",
              "        google.colab.kernel.accessAllowed ? 'block' : 'none';\n",
              "\n",
              "      async function convertToInteractive(key) {\n",
              "        const element = document.querySelector('#df-d91a16df-e691-4647-bc49-703a4618e1b0');\n",
              "        const dataTable =\n",
              "          await google.colab.kernel.invokeFunction('convertToInteractive',\n",
              "                                                    [key], {});\n",
              "        if (!dataTable) return;\n",
              "\n",
              "        const docLinkHtml = 'Like what you see? Visit the ' +\n",
              "          '<a target=\"_blank\" href=https://colab.research.google.com/notebooks/data_table.ipynb>data table notebook</a>'\n",
              "          + ' to learn more about interactive tables.';\n",
              "        element.innerHTML = '';\n",
              "        dataTable['output_type'] = 'display_data';\n",
              "        await google.colab.output.renderOutput(dataTable, element);\n",
              "        const docLink = document.createElement('div');\n",
              "        docLink.innerHTML = docLinkHtml;\n",
              "        element.appendChild(docLink);\n",
              "      }\n",
              "    </script>\n",
              "  </div>\n",
              "\n",
              "\n",
              "<div id=\"df-6776c0f7-248e-4948-8bf6-fa4203f27595\">\n",
              "  <button class=\"colab-df-quickchart\" onclick=\"quickchart('df-6776c0f7-248e-4948-8bf6-fa4203f27595')\"\n",
              "            title=\"Suggest charts\"\n",
              "            style=\"display:none;\">\n",
              "\n",
              "<svg xmlns=\"http://www.w3.org/2000/svg\" height=\"24px\"viewBox=\"0 0 24 24\"\n",
              "     width=\"24px\">\n",
              "    <g>\n",
              "        <path d=\"M19 3H5c-1.1 0-2 .9-2 2v14c0 1.1.9 2 2 2h14c1.1 0 2-.9 2-2V5c0-1.1-.9-2-2-2zM9 17H7v-7h2v7zm4 0h-2V7h2v10zm4 0h-2v-4h2v4z\"/>\n",
              "    </g>\n",
              "</svg>\n",
              "  </button>\n",
              "\n",
              "<style>\n",
              "  .colab-df-quickchart {\n",
              "      --bg-color: #E8F0FE;\n",
              "      --fill-color: #1967D2;\n",
              "      --hover-bg-color: #E2EBFA;\n",
              "      --hover-fill-color: #174EA6;\n",
              "      --disabled-fill-color: #AAA;\n",
              "      --disabled-bg-color: #DDD;\n",
              "  }\n",
              "\n",
              "  [theme=dark] .colab-df-quickchart {\n",
              "      --bg-color: #3B4455;\n",
              "      --fill-color: #D2E3FC;\n",
              "      --hover-bg-color: #434B5C;\n",
              "      --hover-fill-color: #FFFFFF;\n",
              "      --disabled-bg-color: #3B4455;\n",
              "      --disabled-fill-color: #666;\n",
              "  }\n",
              "\n",
              "  .colab-df-quickchart {\n",
              "    background-color: var(--bg-color);\n",
              "    border: none;\n",
              "    border-radius: 50%;\n",
              "    cursor: pointer;\n",
              "    display: none;\n",
              "    fill: var(--fill-color);\n",
              "    height: 32px;\n",
              "    padding: 0;\n",
              "    width: 32px;\n",
              "  }\n",
              "\n",
              "  .colab-df-quickchart:hover {\n",
              "    background-color: var(--hover-bg-color);\n",
              "    box-shadow: 0 1px 2px rgba(60, 64, 67, 0.3), 0 1px 3px 1px rgba(60, 64, 67, 0.15);\n",
              "    fill: var(--button-hover-fill-color);\n",
              "  }\n",
              "\n",
              "  .colab-df-quickchart-complete:disabled,\n",
              "  .colab-df-quickchart-complete:disabled:hover {\n",
              "    background-color: var(--disabled-bg-color);\n",
              "    fill: var(--disabled-fill-color);\n",
              "    box-shadow: none;\n",
              "  }\n",
              "\n",
              "  .colab-df-spinner {\n",
              "    border: 2px solid var(--fill-color);\n",
              "    border-color: transparent;\n",
              "    border-bottom-color: var(--fill-color);\n",
              "    animation:\n",
              "      spin 1s steps(1) infinite;\n",
              "  }\n",
              "\n",
              "  @keyframes spin {\n",
              "    0% {\n",
              "      border-color: transparent;\n",
              "      border-bottom-color: var(--fill-color);\n",
              "      border-left-color: var(--fill-color);\n",
              "    }\n",
              "    20% {\n",
              "      border-color: transparent;\n",
              "      border-left-color: var(--fill-color);\n",
              "      border-top-color: var(--fill-color);\n",
              "    }\n",
              "    30% {\n",
              "      border-color: transparent;\n",
              "      border-left-color: var(--fill-color);\n",
              "      border-top-color: var(--fill-color);\n",
              "      border-right-color: var(--fill-color);\n",
              "    }\n",
              "    40% {\n",
              "      border-color: transparent;\n",
              "      border-right-color: var(--fill-color);\n",
              "      border-top-color: var(--fill-color);\n",
              "    }\n",
              "    60% {\n",
              "      border-color: transparent;\n",
              "      border-right-color: var(--fill-color);\n",
              "    }\n",
              "    80% {\n",
              "      border-color: transparent;\n",
              "      border-right-color: var(--fill-color);\n",
              "      border-bottom-color: var(--fill-color);\n",
              "    }\n",
              "    90% {\n",
              "      border-color: transparent;\n",
              "      border-bottom-color: var(--fill-color);\n",
              "    }\n",
              "  }\n",
              "</style>\n",
              "\n",
              "  <script>\n",
              "    async function quickchart(key) {\n",
              "      const quickchartButtonEl =\n",
              "        document.querySelector('#' + key + ' button');\n",
              "      quickchartButtonEl.disabled = true;  // To prevent multiple clicks.\n",
              "      quickchartButtonEl.classList.add('colab-df-spinner');\n",
              "      try {\n",
              "        const charts = await google.colab.kernel.invokeFunction(\n",
              "            'suggestCharts', [key], {});\n",
              "      } catch (error) {\n",
              "        console.error('Error during call to suggestCharts:', error);\n",
              "      }\n",
              "      quickchartButtonEl.classList.remove('colab-df-spinner');\n",
              "      quickchartButtonEl.classList.add('colab-df-quickchart-complete');\n",
              "    }\n",
              "    (() => {\n",
              "      let quickchartButtonEl =\n",
              "        document.querySelector('#df-6776c0f7-248e-4948-8bf6-fa4203f27595 button');\n",
              "      quickchartButtonEl.style.display =\n",
              "        google.colab.kernel.accessAllowed ? 'block' : 'none';\n",
              "    })();\n",
              "  </script>\n",
              "</div>\n",
              "\n",
              "    </div>\n",
              "  </div>\n"
            ],
            "application/vnd.google.colaboratory.intrinsic+json": {
              "type": "dataframe",
              "variable_name": "df",
              "summary": "{\n  \"name\": \"df\",\n  \"rows\": 6707,\n  \"fields\": [\n    {\n      \"column\": \"isbn13\",\n      \"properties\": {\n        \"dtype\": \"number\",\n        \"std\": 599366245,\n        \"min\": 9780002005883,\n        \"max\": 9789042003408,\n        \"num_unique_values\": 6707,\n        \"samples\": [\n          9780192834423,\n          9781401204259,\n          9780060753634\n        ],\n        \"semantic_type\": \"\",\n        \"description\": \"\"\n      }\n    },\n    {\n      \"column\": \"isbn10\",\n      \"properties\": {\n        \"dtype\": \"string\",\n        \"num_unique_values\": 6707,\n        \"samples\": [\n          \"0192834428\",\n          \"1401204252\",\n          \"0060753633\"\n        ],\n        \"semantic_type\": \"\",\n        \"description\": \"\"\n      }\n    },\n    {\n      \"column\": \"title\",\n      \"properties\": {\n        \"dtype\": \"string\",\n        \"num_unique_values\": 6306,\n        \"samples\": [\n          \"Year's Happy Ending\",\n          \"The Odyssey of Homer\",\n          \"Chemistry and Other Stories\"\n        ],\n        \"semantic_type\": \"\",\n        \"description\": \"\"\n      }\n    },\n    {\n      \"column\": \"subtitle\",\n      \"properties\": {\n        \"dtype\": \"category\",\n        \"num_unique_values\": 1980,\n        \"samples\": [\n          \"How the Athenians And Spartans Fought the Peloponnesian War\",\n          \"Or, I Know Why the Winged Whale Sings\",\n          \"The Marketing Metrics to Pump Up Cash Flow\"\n        ],\n        \"semantic_type\": \"\",\n        \"description\": \"\"\n      }\n    },\n    {\n      \"column\": \"authors\",\n      \"properties\": {\n        \"dtype\": \"string\",\n        \"num_unique_values\": 3746,\n        \"samples\": [\n          \"Annie Proulx;Lew Nichols\",\n          \"Jimmy Carter\",\n          \"Italo Calvino\"\n        ],\n        \"semantic_type\": \"\",\n        \"description\": \"\"\n      }\n    },\n    {\n      \"column\": \"categories\",\n      \"properties\": {\n        \"dtype\": \"category\",\n        \"num_unique_values\": 567,\n        \"samples\": [\n          \"Mars (Planet)\",\n          \"Assassins\",\n          \"Bibles\"\n        ],\n        \"semantic_type\": \"\",\n        \"description\": \"\"\n      }\n    },\n    {\n      \"column\": \"thumbnail\",\n      \"properties\": {\n        \"dtype\": \"string\",\n        \"num_unique_values\": 6433,\n        \"samples\": [\n          \"http://books.google.com/books/content?id=mtBkcldvD3cC&printsec=frontcover&img=1&zoom=1&source=gbs_api\",\n          \"http://books.google.com/books/content?id=dPEU-Zc29J0C&printsec=frontcover&img=1&zoom=1&edge=curl&source=gbs_api\",\n          \"http://books.google.com/books/content?id=ApTW2DLrs1YC&printsec=frontcover&img=1&zoom=1&source=gbs_api\"\n        ],\n        \"semantic_type\": \"\",\n        \"description\": \"\"\n      }\n    },\n    {\n      \"column\": \"description\",\n      \"properties\": {\n        \"dtype\": \"string\",\n        \"num_unique_values\": 6437,\n        \"samples\": [\n          \"The creator of \\\"Calvin and Hobbes\\\" discusses the art of cartooning, explains how he creates his popular comic strip, and presents his favorite moments from the series' ten years\",\n          \"Here, for the first time in one volume, is the complete collection of fifty stories about Hercule Poirot.\",\n          \"A woman's reflections on life, its stages, and its states, comparing them with the natural treasures of life in the sea\"\n        ],\n        \"semantic_type\": \"\",\n        \"description\": \"\"\n      }\n    },\n    {\n      \"column\": \"published_year\",\n      \"properties\": {\n        \"dtype\": \"number\",\n        \"std\": 10,\n        \"min\": 1876,\n        \"max\": 2019,\n        \"num_unique_values\": 92,\n        \"samples\": [\n          1980,\n          1966,\n          1975\n        ],\n        \"semantic_type\": \"\",\n        \"description\": \"\"\n      }\n    },\n    {\n      \"column\": \"average_rating\",\n      \"properties\": {\n        \"dtype\": \"number\",\n        \"std\": 0.06602031189256363,\n        \"min\": 0.0,\n        \"max\": 1.0,\n        \"num_unique_values\": 200,\n        \"samples\": [\n          0.9,\n          0.8460000000000001,\n          0.7120000000000001\n        ],\n        \"semantic_type\": \"\",\n        \"description\": \"\"\n      }\n    },\n    {\n      \"column\": \"num_pages\",\n      \"properties\": {\n        \"dtype\": \"number\",\n        \"std\": 0.2573234286326999,\n        \"min\": 0.0,\n        \"max\": 0.9999999999999999,\n        \"num_unique_values\": 633,\n        \"samples\": [\n          0.18379160636758324,\n          0.24312590448625182,\n          0.5701881331403762\n        ],\n        \"semantic_type\": \"\",\n        \"description\": \"\"\n      }\n    },\n    {\n      \"column\": \"ratings_count\",\n      \"properties\": {\n        \"dtype\": \"number\",\n        \"std\": 0.25553268904206056,\n        \"min\": 0.0,\n        \"max\": 1.0,\n        \"num_unique_values\": 3508,\n        \"samples\": [\n          0.150481664491723,\n          0.05098165716045219,\n          0.031128575827333912\n        ],\n        \"semantic_type\": \"\",\n        \"description\": \"\"\n      }\n    }\n  ]\n}"
            }
          },
          "metadata": {},
          "execution_count": 21
        }
      ]
    },
    {
      "cell_type": "markdown",
      "source": [
        "Creamos un histograma de Average Rating, para visualizar la distribución de la variable, es una representación gráfica que muestra la frecuencia con la que ocurren los valores en el conjunto de datos.\n",
        "Importamos la librería seaborn y matplotib para crear los gráficos y personalizarlo."
      ],
      "metadata": {
        "id": "i2GhCVJKyb7J"
      }
    },
    {
      "cell_type": "code",
      "source": [
        "import seaborn as sns\n",
        "import matplotlib.pyplot as plt\n",
        "\n",
        "plt.figure(figsize=(12, 4)),  #crea la figura\n",
        "plt.subplot(1, 3, 1)  #subgráfico\n",
        "sns.histplot(df['average_rating'], bins=20, kde=True, color='blue') #crea el histograma de color azul\n",
        "plt.title('Distribución de average_rating')"
      ],
      "metadata": {
        "colab": {
          "base_uri": "https://localhost:8080/",
          "height": 428
        },
        "id": "4s-93Kokx_A9",
        "outputId": "95afa2d9-8d9b-4f99-eff3-e30ce4ecaa89"
      },
      "execution_count": 22,
      "outputs": [
        {
          "output_type": "execute_result",
          "data": {
            "text/plain": [
              "Text(0.5, 1.0, 'Distribución de average_rating')"
            ]
          },
          "metadata": {},
          "execution_count": 22
        },
        {
          "output_type": "display_data",
          "data": {
            "text/plain": [
              "<Figure size 1200x400 with 1 Axes>"
            ],
            "image/png": "[encoded data removed]"
          },
          "metadata": {}
        }
      ]
    },
    {
      "cell_type": "markdown",
      "source": [
        "Ahora de Num pages:\n"
      ],
      "metadata": {
        "id": "x7mwuwBEyiKa"
      }
    },
    {
      "cell_type": "code",
      "source": [
        "plt.subplot(1, 3, 2)\n",
        "sns.histplot(df['num_pages'], bins=20, kde=True, color='green')\n",
        "plt.title('Distribución de num_pages')"
      ],
      "metadata": {
        "colab": {
          "base_uri": "https://localhost:8080/",
          "height": 489
        },
        "id": "_At7Qurzyki2",
        "outputId": "7702646e-bd08-4125-eba8-d1ebcddd4f77"
      },
      "execution_count": 23,
      "outputs": [
        {
          "output_type": "execute_result",
          "data": {
            "text/plain": [
              "Text(0.5, 1.0, 'Distribución de num_pages')"
            ]
          },
          "metadata": {},
          "execution_count": 23
        },
        {
          "output_type": "display_data",
          "data": {
            "text/plain": [
              "<Figure size 640x480 with 1 Axes>"
            ],
            "image/png": "[encoded data removed]"
          },
          "metadata": {}
        }
      ]
    },
    {
      "cell_type": "markdown",
      "source": [
        "## Análisis de correlación\n",
        "\n",
        "Ya que tenemos variables numéricas limpias y normalizadas , vamos a calcular la matriz entre las variables average_rating, num_pages y ratings_count.\n",
        "La matriz de correlación sirve para identificar patrones y las relaciones más importantes en los datos."
      ],
      "metadata": {
        "id": "9WKlYqV5K8g0"
      }
    },
    {
      "cell_type": "code",
      "source": [
        "correlation_matrix = df[['average_rating', 'num_pages', 'ratings_count']].corr()\n",
        "\n",
        "plt. figure(figsize=(8, 6))\n",
        "sns.heatmap(correlation_matrix, annot=True, cmap='coolwarm')\n",
        "plt.title('Matriz de correlación')\n",
        "plt.show()"
      ],
      "metadata": {
        "colab": {
          "base_uri": "https://localhost:8080/",
          "height": 545
        },
        "id": "t5SWqy5ANeUG",
        "outputId": "23574df5-0902-4628-a161-2067f6460614"
      },
      "execution_count": 24,
      "outputs": [
        {
          "output_type": "display_data",
          "data": {
            "text/plain": [
              "<Figure size 800x600 with 2 Axes>"
            ],
            "image/png": "[encoded data removed]"
          },
          "metadata": {}
        }
      ]
    },
    {
      "cell_type": "markdown",
      "source": [
        "La relación que hemos encontrado no es muy fuerte, eso nos quiere decir que el que un libro sea más largo no implica necesairamente que vaya a tener mucho rating, no encontramos correlaciones fuertes."
      ],
      "metadata": {
        "id": "VSqMCLA_qMnT"
      }
    },
    {
      "cell_type": "markdown",
      "source": [
        "## Análisis de categorías\n",
        "\n",
        "Vamos a revisar las categorías de libros."
      ],
      "metadata": {
        "id": "Fsf9UZusmcHo"
      }
    },
    {
      "cell_type": "code",
      "source": [
        "category_counts = df['categories'].value_counts().head(20)\n",
        "\n",
        "plt.figure(figsize=(12, 6))\n",
        "sns.barplot(x=category_counts.values, y=category_counts.index,hue=category_counts.index, palette='viridis', legend=False)\n",
        "plt.title('Top 20 de categorías de libros')\n",
        "plt.xlabel('Número de libros')\n",
        "plt.ylabel('Categoría')\n",
        "plt.show()\n"
      ],
      "metadata": {
        "colab": {
          "base_uri": "https://localhost:8080/",
          "height": 565
        },
        "id": "mQklCY9zmolu",
        "outputId": "dc32bf97-0b9e-44c2-f217-e126d7d8aed0"
      },
      "execution_count": 27,
      "outputs": [
        {
          "output_type": "display_data",
          "data": {
            "text/plain": [
              "<Figure size 1200x600 with 1 Axes>"
            ],
            "image/png": "[encoded data removed]"
          },
          "metadata": {}
        }
      ]
    },
    {
      "cell_type": "markdown",
      "source": [
        "Las categoría predominante en el dataset es la ficción."
      ],
      "metadata": {
        "id": "ViUsTYxUq-OM"
      }
    },
    {
      "cell_type": "markdown",
      "source": [
        "## Análisis bivariado\n",
        "\n",
        "Entre average_rating y categories, para ver cómo varían los ratings promedio entre diferentes categorías de libros."
      ],
      "metadata": {
        "id": "eaXh-RSPrKqD"
      }
    },
    {
      "cell_type": "code",
      "source": [
        "category_counts = df['categories'].value_counts().head(20)\n",
        "top_categories = category_counts.index\n",
        "df_top_categories = df[df['categories'].isin(top_categories)]\n",
        "\n",
        "plt.figure(figsize=(12, 6))\n",
        "sns.boxplot(x='categories', y='average_rating', data=df_top_categories)\n",
        "plt.title('Distribución de average_rating por categoría')\n",
        "plt.xlabel('Categoría')\n",
        "plt.ylabel('Rating Promedio')\n",
        "plt.xticks(rotation=45, ha='right')\n",
        "plt.tight_layout()\n",
        "plt.show()"
      ],
      "metadata": {
        "colab": {
          "base_uri": "https://localhost:8080/",
          "height": 607
        },
        "id": "gJdB123urYzD",
        "outputId": "8803b1e8-2925-4b2e-adfc-fede867f3ec7"
      },
      "execution_count": 29,
      "outputs": [
        {
          "output_type": "display_data",
          "data": {
            "text/plain": [
              "<Figure size 1200x600 with 1 Axes>"
            ],
            "image/png": "[encoded data removed]"
          },
          "metadata": {}
        }
      ]
    },
    {
      "cell_type": "markdown",
      "source": [
        "Categorías como Poetry, Religion, Philosophy, Biography & Autobiography, Art, Performing Arts y History son las mejor valoradas y  Las que tienen calificaciones altas pero más dispersión Fiction, Juvenile Fiction y Comics & Graphic Novels."
      ],
      "metadata": {
        "id": "F-Om3KfTthWU"
      }
    },
    {
      "cell_type": "code",
      "source": [],
      "metadata": {
        "id": "1hmOAAKlc92g"
      },
      "execution_count": null,
      "outputs": []
    }
  ]
}